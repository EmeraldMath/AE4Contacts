{
 "cells": [
  {
   "cell_type": "code",
   "execution_count": 1,
   "metadata": {},
   "outputs": [],
   "source": [
    "import tensorflow as tf\n",
    "#import tensorflow_addons as tfa\n",
    "\n",
    "import os\n",
    "import time\n",
    "import numpy as np\n",
    "import glob\n",
    "import matplotlib.pyplot as plt\n",
    "import PIL\n",
    "import config as conf\n",
    "import imageio\n",
    "\n",
    "from IPython import display  \n",
    "\n",
    "import pandas as pd\n",
    "import seaborn as sns\n",
    "from matplotlib import pyplot as plt\n",
    "from scipy import stats\n",
    "import pickle\n",
    "\n",
    "import AE_model as pcvae"
   ]
  },
  {
   "cell_type": "code",
   "execution_count": 44,
   "metadata": {},
   "outputs": [
    {
     "data": {
      "text/html": [
       "        <script type=\"text/javascript\">\n",
       "        window.PlotlyConfig = {MathJaxConfig: 'local'};\n",
       "        if (window.MathJax) {MathJax.Hub.Config({SVG: {font: \"STIX-Web\"}});}\n",
       "        if (typeof require !== 'undefined') {\n",
       "        require.undef(\"plotly\");\n",
       "        requirejs.config({\n",
       "            paths: {\n",
       "                'plotly': ['https://cdn.plot.ly/plotly-latest.min']\n",
       "            }\n",
       "        });\n",
       "        require(['plotly'], function(Plotly) {\n",
       "            window._Plotly = Plotly;\n",
       "        });\n",
       "        }\n",
       "        </script>\n",
       "        "
      ]
     },
     "metadata": {},
     "output_type": "display_data"
    }
   ],
   "source": [
    "from plotly.offline import iplot, init_notebook_mode\n",
    "init_notebook_mode(connected = True)\n",
    "\n",
    "import plotly.express as px\n",
    "from sklearn.decomposition import PCA\n",
    "from sklearn import datasets\n",
    "from sklearn.preprocessing import StandardScaler\n",
    "from sklearn.cluster import KMeans\n",
    "\n",
    "import plotly.graph_objects as go"
   ]
  },
  {
   "cell_type": "code",
   "execution_count": 45,
   "metadata": {},
   "outputs": [
    {
     "name": "stdout",
     "output_type": "stream",
     "text": [
      "2.2.0\n"
     ]
    }
   ],
   "source": [
    "print(tf.__version__)"
   ]
  },
  {
   "cell_type": "code",
   "execution_count": 46,
   "metadata": {},
   "outputs": [],
   "source": [
    "parent_dir = '/cavern/bihuayu/protein_DP/AE_symmetry/nodiag/realVal/'"
   ]
  },
  {
   "cell_type": "code",
   "execution_count": 47,
   "metadata": {},
   "outputs": [],
   "source": [
    "def normalization(x):\n",
    "    sz = tf.size(x['contact'])\n",
    "    edge = tf.math.sqrt(tf.cast(sz, tf.float32))\n",
    "    edge = tf.cast(edge, tf.int32)\n",
    "    \n",
    "    contact_img = x['contact']\n",
    "    \n",
    "    diag = tf.linalg.diag_part(x['contact'],k=(-1,1))\n",
    "    x['diag'] = tf.linalg.diag(diag,k=(-1,1))\n",
    "    x['contact'] = x['contact'] - x['diag']\n",
    "    \n",
    "    diag = tf.linalg.diag_part(contact_img, k = -1)\n",
    "    diag2 = tf.linalg.diag(diag, k = -1)\n",
    "    diag = tf.linalg.diag_part(contact_img, k = 1)\n",
    "    diag3 = tf.linalg.diag(diag, k = 1)\n",
    "    \n",
    "    img = x['contact'] + 0.2 * (diag2 + diag3)\n",
    "    \n",
    "    img_norm = tf.expand_dims(img, -1)\n",
    "    \n",
    "    if edge > 600:\n",
    "        img_norm = tf.image.resize_with_crop_or_pad(img_norm, 600, 600)\n",
    "    elif edge < 8:\n",
    "        img_norm = tf.image.resize_with_crop_or_pad(img_norm, 8, 8)\n",
    "    elif edge % 8 != 0:\n",
    "        mod = 8 - edge % 8\n",
    "        img_norm = tf.image.resize_with_crop_or_pad(img_norm, edge+mod, edge+mod)\n",
    "        \n",
    "    x['contact'] = img_norm\n",
    "    x['diag'] = img_norm\n",
    "        \n",
    "    return x"
   ]
  },
  {
   "cell_type": "code",
   "execution_count": 48,
   "metadata": {},
   "outputs": [],
   "source": [
    "TRAIN_BUF = 60000\n",
    "BATCH_SIZE = 1\n",
    "TEST_BUF = 10000\n",
    "\n",
    "import contact_map as cp\n",
    "data = cp.contact_map()\n",
    "\n",
    "val_varseq_norm = data.val_varseq.map(normalization)\n",
    "it1_norm = data.it1.map(normalization)\n",
    "\n",
    "val_varseq_set = val_varseq_norm.batch(BATCH_SIZE)\n",
    "it1 = it1_norm.batch(BATCH_SIZE)"
   ]
  },
  {
   "cell_type": "code",
   "execution_count": 49,
   "metadata": {},
   "outputs": [
    {
     "name": "stdout",
     "output_type": "stream",
     "text": [
      "CONTACT_MAP_log_norm\n"
     ]
    },
    {
     "data": {
      "text/plain": [
       "<tensorflow.python.training.tracking.util.CheckpointLoadStatus at 0x2aabc75e62b0>"
      ]
     },
     "execution_count": 49,
     "metadata": {},
     "output_type": "execute_result"
    }
   ],
   "source": [
    "model = pcvae.CVAE(latent_dim = 50, mnist = False, units_list=[64,128,128])\n",
    "model.compile(optimizer = model.optimizer, loss = model.compute_loss, metrics = [\"accuracy\"])\n",
    "model.load_weights(parent_dir + 'cp-0010.ckpt')"
   ]
  },
  {
   "cell_type": "markdown",
   "metadata": {},
   "source": [
    "## Jacobian"
   ]
  },
  {
   "cell_type": "code",
   "execution_count": 18,
   "metadata": {},
   "outputs": [
    {
     "name": "stdout",
     "output_type": "stream",
     "text": [
      "1 b'1abv_native' tf.Tensor(104, shape=(), dtype=int32)\n",
      "2 b'1af7__native' tf.Tensor(72, shape=(), dtype=int32)\n",
      "3 b'1ah9_native' tf.Tensor(64, shape=(), dtype=int32)\n",
      "4 b'1aoy_native' tf.Tensor(72, shape=(), dtype=int32)\n",
      "5 b'1b4bAnative' tf.Tensor(72, shape=(), dtype=int32)\n",
      "6 b'1b72Anative' tf.Tensor(56, shape=(), dtype=int32)\n",
      "7 b'1bm8_native' tf.Tensor(104, shape=(), dtype=int32)\n",
      "8 b'1bq9Anative' tf.Tensor(56, shape=(), dtype=int32)\n",
      "9 b'1cewInative' tf.Tensor(112, shape=(), dtype=int32)\n",
      "10 b'1cqkAnative' tf.Tensor(104, shape=(), dtype=int32)\n",
      "11 b'1csp_native' tf.Tensor(72, shape=(), dtype=int32)\n",
      "12 b'1cy5Anative' tf.Tensor(96, shape=(), dtype=int32)\n",
      "13 b'1dcjA_native' tf.Tensor(80, shape=(), dtype=int32)\n",
      "14 b'1di2A_native' tf.Tensor(72, shape=(), dtype=int32)\n",
      "15 b'1dtjA_native' tf.Tensor(80, shape=(), dtype=int32)\n",
      "16 b'1egxAnative' tf.Tensor(120, shape=(), dtype=int32)\n",
      "17 b'1fadAnative' tf.Tensor(96, shape=(), dtype=int32)\n",
      "18 b'1fo5Anative' tf.Tensor(88, shape=(), dtype=int32)\n",
      "19 b'1g1cAnative' tf.Tensor(104, shape=(), dtype=int32)\n",
      "20 b'1gjxAnative' tf.Tensor(80, shape=(), dtype=int32)\n",
      "21 b'1gnuAnative' tf.Tensor(120, shape=(), dtype=int32)\n",
      "22 b'1gpt_native' tf.Tensor(48, shape=(), dtype=int32)\n",
      "23 b'1gyvAnative' tf.Tensor(120, shape=(), dtype=int32)\n",
      "24 b'1hbkAnative' tf.Tensor(96, shape=(), dtype=int32)\n",
      "25 b'1itpAnative' tf.Tensor(72, shape=(), dtype=int32)\n",
      "26 b'1jnuAnative' tf.Tensor(104, shape=(), dtype=int32)\n",
      "27 b'1kjs_native' tf.Tensor(80, shape=(), dtype=int32)\n",
      "28 b'1kviAnative' tf.Tensor(72, shape=(), dtype=int32)\n",
      "29 b'1mkyA3native' tf.Tensor(88, shape=(), dtype=int32)\n",
      "30 b'1mla_2native' tf.Tensor(72, shape=(), dtype=int32)\n",
      "31 b'1mn8Anative' tf.Tensor(88, shape=(), dtype=int32)\n",
      "32 b'1n0uA4native' tf.Tensor(72, shape=(), dtype=int32)\n",
      "33 b'1ne3Anative' tf.Tensor(56, shape=(), dtype=int32)\n",
      "34 b'1no5Anative' tf.Tensor(96, shape=(), dtype=int32)\n",
      "35 b'1npsAnative' tf.Tensor(88, shape=(), dtype=int32)\n",
      "36 b'1o2fB_native' tf.Tensor(80, shape=(), dtype=int32)\n",
      "37 b'1of9Anative' tf.Tensor(80, shape=(), dtype=int32)\n",
      "38 b'1ogwA_native' tf.Tensor(72, shape=(), dtype=int32)\n",
      "39 b'1orgAnative' tf.Tensor(120, shape=(), dtype=int32)\n",
      "40 b'1pgx_native' tf.Tensor(64, shape=(), dtype=int32)\n",
      "41 b'1r69_native' tf.Tensor(64, shape=(), dtype=int32)\n",
      "42 b'1sfp_native' tf.Tensor(112, shape=(), dtype=int32)\n",
      "43 b'1shfAnative' tf.Tensor(64, shape=(), dtype=int32)\n",
      "44 b'1sro_native' tf.Tensor(72, shape=(), dtype=int32)\n",
      "45 b'1ten_native' tf.Tensor(88, shape=(), dtype=int32)\n",
      "46 b'1tfi_native' tf.Tensor(48, shape=(), dtype=int32)\n",
      "47 b'1thx_native' tf.Tensor(112, shape=(), dtype=int32)\n",
      "48 b'1tif_native' tf.Tensor(64, shape=(), dtype=int32)\n",
      "49 b'1tig_native' tf.Tensor(88, shape=(), dtype=int32)\n",
      "50 b'1vcc_native' tf.Tensor(80, shape=(), dtype=int32)\n",
      "51 b'256bAnative' tf.Tensor(112, shape=(), dtype=int32)\n",
      "52 b'2a0b_native' tf.Tensor(120, shape=(), dtype=int32)\n",
      "53 b'2cr7Anative' tf.Tensor(64, shape=(), dtype=int32)\n",
      "54 b'2f3nAnative' tf.Tensor(72, shape=(), dtype=int32)\n",
      "55 b'2pcy_native' tf.Tensor(104, shape=(), dtype=int32)\n",
      "56 b'2reb_2native' tf.Tensor(64, shape=(), dtype=int32)\n"
     ]
    }
   ],
   "source": [
    "img_lst = []\n",
    "i = 0\n",
    "for test_x in it1:\n",
    "    if 'native' in test_x['name'][0].numpy().decode(\"utf-8\"):\n",
    "        sz = tf.shape(test_x['contact'])\n",
    "        seq_len = sz[2]\n",
    "        i = i + 1\n",
    "        if i % 5 == 0:\n",
    "            print(i, test_x['name'][0].numpy(), seq_len)\n",
    "        if seq_len < 75:\n",
    "            img_lst.append((test_x['name'], test_x['contact']))"
   ]
  },
  {
   "cell_type": "code",
   "execution_count": 19,
   "metadata": {},
   "outputs": [],
   "source": [
    "in_file = open(\"/cavern/bihuayu/protein_DP/AE_symmetry/nodiag/realVal/allJacPro.pkl\", \"wb\")\n",
    "pickle.dump(img_lst, in_file)\n",
    "in_file.close()"
   ]
  },
  {
   "cell_type": "code",
   "execution_count": 50,
   "metadata": {},
   "outputs": [],
   "source": [
    "@tf.function(experimental_relax_shapes=True)\n",
    "def jac(p):\n",
    "    with tf.GradientTape() as g:\n",
    "        g.watch(p)\n",
    "        y = model(p, training=False)\n",
    "    jacobian = g.jacobian(y, p)\n",
    "    return jacobian"
   ]
  },
  {
   "cell_type": "code",
   "execution_count": 40,
   "metadata": {},
   "outputs": [
    {
     "name": "stdout",
     "output_type": "stream",
     "text": [
      "5 tf.Tensor([b'1b72Anative'], shape=(1,), dtype=string)\n",
      "10 tf.Tensor([b'1itpAnative'], shape=(1,), dtype=string)\n",
      "15 tf.Tensor([b'1ogwA_native'], shape=(1,), dtype=string)\n",
      "20 tf.Tensor([b'1tfi_native'], shape=(1,), dtype=string)\n"
     ]
    }
   ],
   "source": [
    "jac_lst = []\n",
    "k = 6\n",
    "i = 0\n",
    "for protein in img_lst:\n",
    "    name = protein[0]\n",
    "    p = protein[1]\n",
    "    jacobian = jac(p)\n",
    "    j = tf.squeeze(jacobian)\n",
    "    \n",
    "    J_shape = tf.shape(j)\n",
    "    no_self_interaction = np.ones(J_shape)\n",
    "    for m in range(J_shape[0]):\n",
    "        for n in range(m,J_shape[0]):\n",
    "            no_self_interaction[m,n,m,n] = 0\n",
    "            no_self_interaction[m,n,n,m] = 0\n",
    "            no_self_interaction[n,m,m,n] = 0\n",
    "            no_self_interaction[n,m,n,m] = 0\n",
    "    x = j*no_self_interaction\n",
    "    top_values, top_indices = tf.nn.top_k(tf.reshape(x, (-1,)), k)\n",
    "    top_list = []\n",
    "    for max_id in top_indices:\n",
    "        d1 = (J_shape[1]*J_shape[2]*J_shape[3])\n",
    "        d2 = (J_shape[2]*J_shape[3])\n",
    "        d3 = J_shape[3]\n",
    "        ele_num = max_id + 1\n",
    "        i1 = ele_num//d1 - 1 if ele_num%d1==0 else ele_num//d1\n",
    "        i2 = (ele_num - d1*i1)//d2 - 1 if (ele_num - d1*i1)%d2 == 0 else (ele_num - d1*i1)//d2\n",
    "        i3 = (ele_num - d1*i1 - d2*i2) // d3 - 1 if (ele_num - d1*i1 - d2*i2)%d3 == 0 else (ele_num - d1*i1 - d2*i2) // d3\n",
    "        i4 = ele_num - d1*i1 - d2*i2 - i3*d3 - 1\n",
    "        if i1 < i2:\n",
    "            top_list.append((i1.numpy(), i2.numpy(), i3.numpy(), i4.numpy(), name.numpy()[0].decode(\"utf-8\"), 'input:', p[0,i1,i2,0].numpy(), 'jac:', j[i1,i2,i3,i4].numpy()))\n",
    "    jac_lst.append(top_list)\n",
    "    i = i + 1\n",
    "    if i % 5 == 0:\n",
    "        print(i, name)"
   ]
  },
  {
   "cell_type": "code",
   "execution_count": 44,
   "metadata": {},
   "outputs": [
    {
     "data": {
      "text/plain": [
       "24"
      ]
     },
     "execution_count": 44,
     "metadata": {},
     "output_type": "execute_result"
    }
   ],
   "source": [
    "len(jac_lst)"
   ]
  },
  {
   "cell_type": "code",
   "execution_count": 50,
   "metadata": {},
   "outputs": [
    {
     "data": {
      "text/plain": [
       "[[(39, 44, 44, 38, '1af7__native', 'input:', 1.01419, 'jac:', 0.6638674),\n",
       "  (39, 44, 48, 36, '1af7__native', 'input:', 1.01419, 'jac:', 0.55937636),\n",
       "  (39, 44, 46, 38, '1af7__native', 'input:', 1.01419, 'jac:', 0.5410222)],\n",
       " [(18, 25, 20, 25, '1ah9_native', 'input:', 0.698332, 'jac:', 0.75642395),\n",
       "  (14, 39, 13, 39, '1ah9_native', 'input:', 0.0, 'jac:', 0.68199295),\n",
       "  (29, 59, 56, 30, '1ah9_native', 'input:', 0.140701, 'jac:', 0.6779651)],\n",
       " [(10, 46, 46, 9, '1aoy_native', 'input:', 0.750786, 'jac:', 0.71841866),\n",
       "  (14, 63, 14, 60, '1aoy_native', 'input:', 1.04686, 'jac:', 0.6861692),\n",
       "  (46, 51, 43, 51, '1aoy_native', 'input:', 3.1305, 'jac:', 0.6453197)],\n",
       " [(38, 61, 35, 61, '1b4bAnative', 'input:', 1.35998, 'jac:', 0.54620826),\n",
       "  (20, 21, 20, 22, '1b4bAnative', 'input:', 1.970982, 'jac:', 0.45639253),\n",
       "  (6, 7, 6, 8, '1b4bAnative', 'input:', 1.6998739, 'jac:', 0.41052076)],\n",
       " [(6, 41, 3, 41, '1b72Anative', 'input:', 2.56592, 'jac:', 0.59448355),\n",
       "  (43, 46, 43, 43, '1b72Anative', 'input:', 2.38556, 'jac:', 0.50017405),\n",
       "  (6, 37, 7, 30, '1b72Anative', 'input:', 1.06843, 'jac:', 0.44217077)],\n",
       " [(5, 10, 10, 4, '1bq9Anative', 'input:', 1.04165, 'jac:', 0.76692307),\n",
       "  (40, 41, 40, 42, '1bq9Anative', 'input:', 1.5878841, 'jac:', 0.576355),\n",
       "  (6, 47, 6, 44, '1bq9Anative', 'input:', 1.1436, 'jac:', 0.5334502)],\n",
       " [(19, 26, 26, 16, '1csp_native', 'input:', 0.78541, 'jac:', 0.67370045),\n",
       "  (6, 45, 3, 45, '1csp_native', 'input:', 0.941077, 'jac:', 0.64869565),\n",
       "  (5, 20, 20, 2, '1csp_native', 'input:', 0.703037, 'jac:', 0.6037837)],\n",
       " [(24, 35, 24, 34, '1di2A_native', 'input:', 0.908813, 'jac:', 0.89915866),\n",
       "  (24, 35, 19, 34, '1di2A_native', 'input:', 0.908813, 'jac:', 0.73442423),\n",
       "  (24, 35, 24, 37, '1di2A_native', 'input:', 0.908813, 'jac:', 0.66873765)],\n",
       " [(23, 42, 35, 23, '1gpt_native', 'input:', 8.5431, 'jac:', 0.6557611),\n",
       "  (23, 42, 41, 22, '1gpt_native', 'input:', 8.5431, 'jac:', 0.6496353),\n",
       "  (19, 40, 35, 23, '1gpt_native', 'input:', 7.36634, 'jac:', 0.568224)],\n",
       " [(10, 63, 10, 61, '1itpAnative', 'input:', 0.847577, 'jac:', 0.8882353),\n",
       "  (10, 65, 12, 63, '1itpAnative', 'input:', 2.24841, 'jac:', 0.70267594),\n",
       "  (26, 31, 25, 31, '1itpAnative', 'input:', 0.792559, 'jac:', 0.5845635)],\n",
       " [(35, 42, 42, 36, '1kviAnative', 'input:', 0.634851, 'jac:', 0.76397586),\n",
       "  (33, 44, 44, 34, '1kviAnative', 'input:', 3.22568, 'jac:', 0.68087524),\n",
       "  (4, 56, 49, 7, '1kviAnative', 'input:', 3.86271, 'jac:', 0.6525762)],\n",
       " [(9, 62, 59, 9, '1mla_2native', 'input:', 1.47028, 'jac:', 0.82623243),\n",
       "  (9, 63, 58, 9, '1mla_2native', 'input:', 0.742249, 'jac:', 0.60807055),\n",
       "  (28, 45, 25, 45, '1mla_2native', 'input:', 0.870721, 'jac:', 0.5914674)],\n",
       " [(32, 41, 25, 40, '1n0uA4native', 'input:', 1.12529, 'jac:', 0.57421243),\n",
       "  (32, 41, 29, 41, '1n0uA4native', 'input:', 1.12529, 'jac:', 0.5399626),\n",
       "  (32, 41, 25, 41, '1n0uA4native', 'input:', 1.12529, 'jac:', 0.5217042)],\n",
       " [(8, 51, 10, 49, '1ne3Anative', 'input:', 0.0, 'jac:', 0.84710306),\n",
       "  (9, 48, 50, 9, '1ne3Anative', 'input:', 1.93168, 'jac:', 0.76229036),\n",
       "  (7, 28, 26, 7, '1ne3Anative', 'input:', 0.0, 'jac:', 0.6494492)],\n",
       " [(3, 64, 57, 3, '1ogwA_native', 'input:', 0.903904, 'jac:', 0.70088255),\n",
       "  (42, 49, 39, 49, '1ogwA_native', 'input:', 0.992607, 'jac:', 0.70043224),\n",
       "  (3, 64, 61, 3, '1ogwA_native', 'input:', 0.903904, 'jac:', 0.66828734)],\n",
       " [(6, 52, 52, 7, '1pgx_native', 'input:', 0.797888, 'jac:', 0.573527),\n",
       "  (6, 52, 49, 5, '1pgx_native', 'input:', 0.797888, 'jac:', 0.55625844),\n",
       "  (3, 22, 22, 0, '1pgx_native', 'input:', 1.16493, 'jac:', 0.5534142)],\n",
       " [(55, 58, 58, 52, '1r69_native', 'input:', 0.704221, 'jac:', 0.6062956),\n",
       "  (5, 59, 58, 2, '1r69_native', 'input:', 1.59842, 'jac:', 0.4724087),\n",
       "  (10, 35, 9, 29, '1r69_native', 'input:', 2.00726, 'jac:', 0.45227146)],\n",
       " [(11, 18, 18, 8, '1shfAnative', 'input:', 1.65346, 'jac:', 0.70212746),\n",
       "  (6, 57, 3, 57, '1shfAnative', 'input:', 2.16803, 'jac:', 0.62514985),\n",
       "  (42, 47, 42, 48, '1shfAnative', 'input:', 1.13229, 'jac:', 0.5705892)],\n",
       " [(44, 45, 44, 46, '1sro_native', 'input:', 1.6478399, 'jac:', 0.666712),\n",
       "  (15, 26, 25, 14, '1sro_native', 'input:', 1.41315, 'jac:', 0.64658856),\n",
       "  (57, 64, 64, 58, '1sro_native', 'input:', 0.0, 'jac:', 0.620307)],\n",
       " [(16, 37, 16, 36, '1tfi_native', 'input:', 0.48089, 'jac:', 0.6831591),\n",
       "  (0, 1, 0, 2, '1tfi_native', 'input:', 1.6097401, 'jac:', 0.6094433),\n",
       "  (10, 41, 12, 40, '1tfi_native', 'input:', 2.72965, 'jac:', 0.58794594)],\n",
       " [(42, 43, 42, 44, '1tif_native', 'input:', 1.549616, 'jac:', 0.60820675),\n",
       "  (15, 19, 18, 12, '1tif_native', 'input:', 2.26494, 'jac:', 0.49496177),\n",
       "  (6, 27, 6, 24, '1tif_native', 'input:', 1.8205, 'jac:', 0.46425706)],\n",
       " [(5, 54, 51, 5, '2cr7Anative', 'input:', 2.04564, 'jac:', 0.8107184),\n",
       "  (18, 21, 15, 21, '2cr7Anative', 'input:', 0.347621, 'jac:', 0.673157),\n",
       "  (6, 9, 3, 9, '2cr7Anative', 'input:', 2.00044, 'jac:', 0.5285207)],\n",
       " [(51, 57, 48, 57, '2f3nAnative', 'input:', 0.876848, 'jac:', 0.7829167),\n",
       "  (14, 25, 11, 25, '2f3nAnative', 'input:', 1.71576, 'jac:', 0.6857752),\n",
       "  (27, 48, 48, 24, '2f3nAnative', 'input:', 0.719637, 'jac:', 0.6119728)],\n",
       " [(26, 51, 26, 48, '2reb_2native', 'input:', 0.409663, 'jac:', 0.5660517),\n",
       "  (16, 26, 13, 25, '2reb_2native', 'input:', 1.17455, 'jac:', 0.48772794),\n",
       "  (18, 25, 11, 23, '2reb_2native', 'input:', 2.05884, 'jac:', 0.4598203)]]"
      ]
     },
     "execution_count": 50,
     "metadata": {},
     "output_type": "execute_result"
    }
   ],
   "source": [
    "jac_lst"
   ]
  },
  {
   "cell_type": "code",
   "execution_count": 46,
   "metadata": {},
   "outputs": [],
   "source": [
    "in_f = open(\"/cavern/bihuayu/protein_DP/AE_symmetry/nodiag/realVal/top3.pkl\", \"wb\")\n",
    "pickle.dump(img_lst, in_f)\n",
    "in_f.close()"
   ]
  },
  {
   "cell_type": "code",
   "execution_count": 30,
   "metadata": {},
   "outputs": [],
   "source": [
    "# for i in range(63):\n",
    "#     tf.print(inputs[i, i+1])\n",
    "## 2KDD_1_A contains 57 residues and padding is 7. It shows padding is 3 + 4. \n",
    "## So res_id = matrix_id - 2(counting from 1)"
   ]
  }
 ],
 "metadata": {
  "kernelspec": {
   "display_name": "Python 3",
   "language": "python",
   "name": "python3"
  },
  "language_info": {
   "codemirror_mode": {
    "name": "ipython",
    "version": 3
   },
   "file_extension": ".py",
   "mimetype": "text/x-python",
   "name": "python",
   "nbconvert_exporter": "python",
   "pygments_lexer": "ipython3",
   "version": "3.6.4"
  }
 },
 "nbformat": 4,
 "nbformat_minor": 4
}
