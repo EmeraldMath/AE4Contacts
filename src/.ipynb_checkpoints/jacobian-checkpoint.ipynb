{
 "cells": [
  {
   "cell_type": "code",
   "execution_count": 1,
   "metadata": {},
   "outputs": [],
   "source": [
    "import tensorflow as tf\n",
    "#import tensorflow_addons as tfa\n",
    "\n",
    "import os\n",
    "import time\n",
    "import numpy as np\n",
    "import glob\n",
    "import matplotlib.pyplot as plt\n",
    "import PIL\n",
    "import config as conf\n",
    "import imageio\n",
    "\n",
    "from IPython import display  \n",
    "\n",
    "import pandas as pd\n",
    "import seaborn as sns\n",
    "from matplotlib import pyplot as plt\n",
    "from scipy import stats\n",
    "import pickle\n",
    "\n",
    "import AE_model as pcvae"
   ]
  },
  {
   "cell_type": "code",
   "execution_count": 44,
   "metadata": {},
   "outputs": [
    {
     "data": {
      "text/html": [
       "        <script type=\"text/javascript\">\n",
       "        window.PlotlyConfig = {MathJaxConfig: 'local'};\n",
       "        if (window.MathJax) {MathJax.Hub.Config({SVG: {font: \"STIX-Web\"}});}\n",
       "        if (typeof require !== 'undefined') {\n",
       "        require.undef(\"plotly\");\n",
       "        requirejs.config({\n",
       "            paths: {\n",
       "                'plotly': ['https://cdn.plot.ly/plotly-latest.min']\n",
       "            }\n",
       "        });\n",
       "        require(['plotly'], function(Plotly) {\n",
       "            window._Plotly = Plotly;\n",
       "        });\n",
       "        }\n",
       "        </script>\n",
       "        "
      ]
     },
     "metadata": {},
     "output_type": "display_data"
    }
   ],
   "source": [
    "from plotly.offline import iplot, init_notebook_mode\n",
    "init_notebook_mode(connected = True)\n",
    "\n",
    "import plotly.express as px\n",
    "from sklearn.decomposition import PCA\n",
    "from sklearn import datasets\n",
    "from sklearn.preprocessing import StandardScaler\n",
    "from sklearn.cluster import KMeans\n",
    "\n",
    "import plotly.graph_objects as go"
   ]
  },
  {
   "cell_type": "code",
   "execution_count": 45,
   "metadata": {},
   "outputs": [
    {
     "name": "stdout",
     "output_type": "stream",
     "text": [
      "2.2.0\n"
     ]
    }
   ],
   "source": [
    "print(tf.__version__)"
   ]
  },
  {
   "cell_type": "code",
   "execution_count": 46,
   "metadata": {},
   "outputs": [],
   "source": [
    "parent_dir = '/cavern/bihuayu/protein_DP/AE_symmetry/nodiag/realVal/'"
   ]
  },
  {
   "cell_type": "code",
   "execution_count": 47,
   "metadata": {},
   "outputs": [],
   "source": [
    "def normalization(x):\n",
    "    sz = tf.size(x['contact'])\n",
    "    edge = tf.math.sqrt(tf.cast(sz, tf.float32))\n",
    "    edge = tf.cast(edge, tf.int32)\n",
    "    \n",
    "    contact_img = x['contact']\n",
    "    \n",
    "    diag = tf.linalg.diag_part(x['contact'],k=(-1,1))\n",
    "    x['diag'] = tf.linalg.diag(diag,k=(-1,1))\n",
    "    x['contact'] = x['contact'] - x['diag']\n",
    "    \n",
    "    diag = tf.linalg.diag_part(contact_img, k = -1)\n",
    "    diag2 = tf.linalg.diag(diag, k = -1)\n",
    "    diag = tf.linalg.diag_part(contact_img, k = 1)\n",
    "    diag3 = tf.linalg.diag(diag, k = 1)\n",
    "    \n",
    "    img = x['contact'] + 0.2 * (diag2 + diag3)\n",
    "    \n",
    "    img_norm = tf.expand_dims(img, -1)\n",
    "    \n",
    "    if edge > 600:\n",
    "        img_norm = tf.image.resize_with_crop_or_pad(img_norm, 600, 600)\n",
    "    elif edge < 8:\n",
    "        img_norm = tf.image.resize_with_crop_or_pad(img_norm, 8, 8)\n",
    "    elif edge % 8 != 0:\n",
    "        mod = 8 - edge % 8\n",
    "        img_norm = tf.image.resize_with_crop_or_pad(img_norm, edge+mod, edge+mod)\n",
    "        \n",
    "    x['contact'] = img_norm\n",
    "    x['diag'] = img_norm\n",
    "        \n",
    "    return x"
   ]
  },
  {
   "cell_type": "code",
   "execution_count": 48,
   "metadata": {},
   "outputs": [],
   "source": [
    "TRAIN_BUF = 60000\n",
    "BATCH_SIZE = 1\n",
    "TEST_BUF = 10000\n",
    "\n",
    "import contact_map as cp\n",
    "data = cp.contact_map()\n",
    "\n",
    "val_varseq_norm = data.val_varseq.map(normalization)\n",
    "it1_norm = data.it1.map(normalization)\n",
    "\n",
    "val_varseq_set = val_varseq_norm.batch(BATCH_SIZE)\n",
    "it1 = it1_norm.batch(BATCH_SIZE)"
   ]
  },
  {
   "cell_type": "code",
   "execution_count": 49,
   "metadata": {},
   "outputs": [
    {
     "name": "stdout",
     "output_type": "stream",
     "text": [
      "CONTACT_MAP_log_norm\n"
     ]
    },
    {
     "data": {
      "text/plain": [
       "<tensorflow.python.training.tracking.util.CheckpointLoadStatus at 0x2aabc75e62b0>"
      ]
     },
     "execution_count": 49,
     "metadata": {},
     "output_type": "execute_result"
    }
   ],
   "source": [
    "model = pcvae.CVAE(latent_dim = 50, mnist = False, units_list=[64,128,128])\n",
    "model.compile(optimizer = model.optimizer, loss = model.compute_loss, metrics = [\"accuracy\"])\n",
    "model.load_weights(parent_dir + 'cp-0010.ckpt')"
   ]
  },
  {
   "cell_type": "markdown",
   "metadata": {},
   "source": [
    "## Jacobian"
   ]
  },
  {
   "cell_type": "code",
   "execution_count": 18,
   "metadata": {},
   "outputs": [
    {
     "name": "stdout",
     "output_type": "stream",
     "text": [
      "1 b'1abv_native' tf.Tensor(104, shape=(), dtype=int32)\n",
      "2 b'1af7__native' tf.Tensor(72, shape=(), dtype=int32)\n",
      "3 b'1ah9_native' tf.Tensor(64, shape=(), dtype=int32)\n",
      "4 b'1aoy_native' tf.Tensor(72, shape=(), dtype=int32)\n",
      "5 b'1b4bAnative' tf.Tensor(72, shape=(), dtype=int32)\n",
      "6 b'1b72Anative' tf.Tensor(56, shape=(), dtype=int32)\n",
      "7 b'1bm8_native' tf.Tensor(104, shape=(), dtype=int32)\n",
      "8 b'1bq9Anative' tf.Tensor(56, shape=(), dtype=int32)\n",
      "9 b'1cewInative' tf.Tensor(112, shape=(), dtype=int32)\n",
      "10 b'1cqkAnative' tf.Tensor(104, shape=(), dtype=int32)\n",
      "11 b'1csp_native' tf.Tensor(72, shape=(), dtype=int32)\n",
      "12 b'1cy5Anative' tf.Tensor(96, shape=(), dtype=int32)\n",
      "13 b'1dcjA_native' tf.Tensor(80, shape=(), dtype=int32)\n",
      "14 b'1di2A_native' tf.Tensor(72, shape=(), dtype=int32)\n",
      "15 b'1dtjA_native' tf.Tensor(80, shape=(), dtype=int32)\n",
      "16 b'1egxAnative' tf.Tensor(120, shape=(), dtype=int32)\n",
      "17 b'1fadAnative' tf.Tensor(96, shape=(), dtype=int32)\n",
      "18 b'1fo5Anative' tf.Tensor(88, shape=(), dtype=int32)\n",
      "19 b'1g1cAnative' tf.Tensor(104, shape=(), dtype=int32)\n",
      "20 b'1gjxAnative' tf.Tensor(80, shape=(), dtype=int32)\n",
      "21 b'1gnuAnative' tf.Tensor(120, shape=(), dtype=int32)\n",
      "22 b'1gpt_native' tf.Tensor(48, shape=(), dtype=int32)\n",
      "23 b'1gyvAnative' tf.Tensor(120, shape=(), dtype=int32)\n",
      "24 b'1hbkAnative' tf.Tensor(96, shape=(), dtype=int32)\n",
      "25 b'1itpAnative' tf.Tensor(72, shape=(), dtype=int32)\n",
      "26 b'1jnuAnative' tf.Tensor(104, shape=(), dtype=int32)\n",
      "27 b'1kjs_native' tf.Tensor(80, shape=(), dtype=int32)\n",
      "28 b'1kviAnative' tf.Tensor(72, shape=(), dtype=int32)\n",
      "29 b'1mkyA3native' tf.Tensor(88, shape=(), dtype=int32)\n",
      "30 b'1mla_2native' tf.Tensor(72, shape=(), dtype=int32)\n",
      "31 b'1mn8Anative' tf.Tensor(88, shape=(), dtype=int32)\n",
      "32 b'1n0uA4native' tf.Tensor(72, shape=(), dtype=int32)\n",
      "33 b'1ne3Anative' tf.Tensor(56, shape=(), dtype=int32)\n",
      "34 b'1no5Anative' tf.Tensor(96, shape=(), dtype=int32)\n",
      "35 b'1npsAnative' tf.Tensor(88, shape=(), dtype=int32)\n",
      "36 b'1o2fB_native' tf.Tensor(80, shape=(), dtype=int32)\n",
      "37 b'1of9Anative' tf.Tensor(80, shape=(), dtype=int32)\n",
      "38 b'1ogwA_native' tf.Tensor(72, shape=(), dtype=int32)\n",
      "39 b'1orgAnative' tf.Tensor(120, shape=(), dtype=int32)\n",
      "40 b'1pgx_native' tf.Tensor(64, shape=(), dtype=int32)\n",
      "41 b'1r69_native' tf.Tensor(64, shape=(), dtype=int32)\n",
      "42 b'1sfp_native' tf.Tensor(112, shape=(), dtype=int32)\n",
      "43 b'1shfAnative' tf.Tensor(64, shape=(), dtype=int32)\n",
      "44 b'1sro_native' tf.Tensor(72, shape=(), dtype=int32)\n",
      "45 b'1ten_native' tf.Tensor(88, shape=(), dtype=int32)\n",
      "46 b'1tfi_native' tf.Tensor(48, shape=(), dtype=int32)\n",
      "47 b'1thx_native' tf.Tensor(112, shape=(), dtype=int32)\n",
      "48 b'1tif_native' tf.Tensor(64, shape=(), dtype=int32)\n",
      "49 b'1tig_native' tf.Tensor(88, shape=(), dtype=int32)\n",
      "50 b'1vcc_native' tf.Tensor(80, shape=(), dtype=int32)\n",
      "51 b'256bAnative' tf.Tensor(112, shape=(), dtype=int32)\n",
      "52 b'2a0b_native' tf.Tensor(120, shape=(), dtype=int32)\n",
      "53 b'2cr7Anative' tf.Tensor(64, shape=(), dtype=int32)\n",
      "54 b'2f3nAnative' tf.Tensor(72, shape=(), dtype=int32)\n",
      "55 b'2pcy_native' tf.Tensor(104, shape=(), dtype=int32)\n",
      "56 b'2reb_2native' tf.Tensor(64, shape=(), dtype=int32)\n"
     ]
    }
   ],
   "source": [
    "img_lst = []\n",
    "i = 0\n",
    "for test_x in it1:\n",
    "    if 'native' in test_x['name'][0].numpy().decode(\"utf-8\"):\n",
    "        sz = tf.shape(test_x['contact'])\n",
    "        seq_len = sz[2]\n",
    "        i = i + 1\n",
    "        if i % 5 == 0:\n",
    "            print(i, test_x['name'][0].numpy(), seq_len)\n",
    "        if seq_len < 75:\n",
    "            img_lst.append((test_x['name'], test_x['contact']))"
   ]
  },
  {
   "cell_type": "code",
   "execution_count": 19,
   "metadata": {},
   "outputs": [],
   "source": [
    "in_file = open(\"/cavern/bihuayu/protein_DP/AE_symmetry/nodiag/realVal/allJacPro.pkl\", \"wb\")\n",
    "pickle.dump(img_lst, in_file)\n",
    "in_file.close()"
   ]
  },
  {
   "cell_type": "code",
   "execution_count": 50,
   "metadata": {},
   "outputs": [],
   "source": [
    "@tf.function(experimental_relax_shapes=True)\n",
    "def jac(p):\n",
    "    with tf.GradientTape() as g:\n",
    "        g.watch(p)\n",
    "        y = model(p, training=False)\n",
    "    jacobian = g.jacobian(y, p)\n",
    "    return jacobian"
   ]
  },
  {
   "cell_type": "code",
   "execution_count": 40,
   "metadata": {},
   "outputs": [
    {
     "name": "stdout",
     "output_type": "stream",
     "text": [
      "5 tf.Tensor([b'1b72Anative'], shape=(1,), dtype=string)\n",
      "10 tf.Tensor([b'1itpAnative'], shape=(1,), dtype=string)\n",
      "15 tf.Tensor([b'1ogwA_native'], shape=(1,), dtype=string)\n",
      "20 tf.Tensor([b'1tfi_native'], shape=(1,), dtype=string)\n"
     ]
    }
   ],
   "source": [
    "jac_lst = []\n",
    "k = 6\n",
    "i = 0\n",
    "for protein in img_lst:\n",
    "    name = protein[0]\n",
    "    p = protein[1]\n",
    "    jacobian = jac(p)\n",
    "    j = tf.squeeze(jacobian)\n",
    "    \n",
    "    J_shape = tf.shape(j)\n",
    "    no_self_interaction = np.ones(J_shape)\n",
    "    for m in range(J_shape[0]):\n",
    "        for n in range(m,J_shape[0]):\n",
    "            no_self_interaction[m,n,m,n] = 0\n",
    "            no_self_interaction[m,n,n,m] = 0\n",
    "            no_self_interaction[n,m,m,n] = 0\n",
    "            no_self_interaction[n,m,n,m] = 0\n",
    "    x = j*no_self_interaction\n",
    "    top_values, top_indices = tf.nn.top_k(tf.reshape(x, (-1,)), k)\n",
    "    top_list = []\n",
    "    for max_id in top_indices:\n",
    "        d1 = (J_shape[1]*J_shape[2]*J_shape[3])\n",
    "        d2 = (J_shape[2]*J_shape[3])\n",
    "        d3 = J_shape[3]\n",
    "        ele_num = max_id + 1\n",
    "        i1 = ele_num//d1 - 1 if ele_num%d1==0 else ele_num//d1\n",
    "        i2 = (ele_num - d1*i1)//d2 - 1 if (ele_num - d1*i1)%d2 == 0 else (ele_num - d1*i1)//d2\n",
    "        i3 = (ele_num - d1*i1 - d2*i2) // d3 - 1 if (ele_num - d1*i1 - d2*i2)%d3 == 0 else (ele_num - d1*i1 - d2*i2) // d3\n",
    "        i4 = ele_num - d1*i1 - d2*i2 - i3*d3 - 1\n",
    "        if i1 < i2:\n",
    "            top_list.append((i1.numpy(), i2.numpy(), i3.numpy(), i4.numpy(), name.numpy()[0].decode(\"utf-8\"), 'input:', p[0,i1,i2,0].numpy(), 'jac:', j[i1,i2,i3,i4].numpy()))\n",
    "    jac_lst.append(top_list)\n",
    "    i = i + 1\n",
    "    if i % 5 == 0:\n",
    "        print(i, name)"
   ]
  },
  {
   "cell_type": "code",
   "execution_count": 44,
   "metadata": {},
   "outputs": [
    {
     "data": {
      "text/plain": [
       "24"
      ]
     },
     "execution_count": 44,
     "metadata": {},
     "output_type": "execute_result"
    }
   ],
   "source": [
    "len(jac_lst)"
   ]
  },
  {
   "cell_type": "code",
   "execution_count": 50,
   "metadata": {},
   "outputs": [
    {
     "data": {
      "text/plain": [
       "[[(39, 44, 44, 38, '1af7__native', 'input:', 1.01419, 'jac:', 0.6638674),\n",
       "  (39, 44, 48, 36, '1af7__native', 'input:', 1.01419, 'jac:', 0.55937636),\n",
       "  (39, 44, 46, 38, '1af7__native', 'input:', 1.01419, 'jac:', 0.5410222)],\n",
       " [(18, 25, 20, 25, '1ah9_native', 'input:', 0.698332, 'jac:', 0.75642395),\n",
       "  (14, 39, 13, 39, '1ah9_native', 'input:', 0.0, 'jac:', 0.68199295),\n",
       "  (29, 59, 56, 30, '1ah9_native', 'input:', 0.140701, 'jac:', 0.6779651)],\n",
       " [(10, 46, 46, 9, '1aoy_native', 'input:', 0.750786, 'jac:', 0.71841866),\n",
       "  (14, 63, 14, 60, '1aoy_native', 'input:', 1.04686, 'jac:', 0.6861692),\n",
       "  (46, 51, 43, 51, '1aoy_native', 'input:', 3.1305, 'jac:', 0.6453197)],\n",
       " [(38, 61, 35, 61, '1b4bAnative', 'input:', 1.35998, 'jac:', 0.54620826),\n",
       "  (20, 21, 20, 22, '1b4bAnative', 'input:', 1.970982, 'jac:', 0.45639253),\n",
       "  (6, 7, 6, 8, '1b4bAnative', 'input:', 1.6998739, 'jac:', 0.41052076)],\n",
       " [(6, 41, 3, 41, '1b72Anative', 'input:', 2.56592, 'jac:', 0.59448355),\n",
       "  (43, 46, 43, 43, '1b72Anative', 'input:', 2.38556, 'jac:', 0.50017405),\n",
       "  (6, 37, 7, 30, '1b72Anative', 'input:', 1.06843, 'jac:', 0.44217077)],\n",
       " [(5, 10, 10, 4, '1bq9Anative', 'input:', 1.04165, 'jac:', 0.76692307),\n",
       "  (40, 41, 40, 42, '1bq9Anative', 'input:', 1.5878841, 'jac:', 0.576355),\n",
       "  (6, 47, 6, 44, '1bq9Anative', 'input:', 1.1436, 'jac:', 0.5334502)],\n",
       " [(19, 26, 26, 16, '1csp_native', 'input:', 0.78541, 'jac:', 0.67370045),\n",
       "  (6, 45, 3, 45, '1csp_native', 'input:', 0.941077, 'jac:', 0.64869565),\n",
       "  (5, 20, 20, 2, '1csp_native', 'input:', 0.703037, 'jac:', 0.6037837)],\n",
       " [(24, 35, 24, 34, '1di2A_native', 'input:', 0.908813, 'jac:', 0.89915866),\n",
       "  (24, 35, 19, 34, '1di2A_native', 'input:', 0.908813, 'jac:', 0.73442423),\n",
       "  (24, 35, 24, 37, '1di2A_native', 'input:', 0.908813, 'jac:', 0.66873765)],\n",
       " [(23, 42, 35, 23, '1gpt_native', 'input:', 8.5431, 'jac:', 0.6557611),\n",
       "  (23, 42, 41, 22, '1gpt_native', 'input:', 8.5431, 'jac:', 0.6496353),\n",
       "  (19, 40, 35, 23, '1gpt_native', 'input:', 7.36634, 'jac:', 0.568224)],\n",
       " [(10, 63, 10, 61, '1itpAnative', 'input:', 0.847577, 'jac:', 0.8882353),\n",
       "  (10, 65, 12, 63, '1itpAnative', 'input:', 2.24841, 'jac:', 0.70267594),\n",
       "  (26, 31, 25, 31, '1itpAnative', 'input:', 0.792559, 'jac:', 0.5845635)],\n",
       " [(35, 42, 42, 36, '1kviAnative', 'input:', 0.634851, 'jac:', 0.76397586),\n",
       "  (33, 44, 44, 34, '1kviAnative', 'input:', 3.22568, 'jac:', 0.68087524),\n",
       "  (4, 56, 49, 7, '1kviAnative', 'input:', 3.86271, 'jac:', 0.6525762)],\n",
       " [(9, 62, 59, 9, '1mla_2native', 'input:', 1.47028, 'jac:', 0.82623243),\n",
       "  (9, 63, 58, 9, '1mla_2native', 'input:', 0.742249, 'jac:', 0.60807055),\n",
       "  (28, 45, 25, 45, '1mla_2native', 'input:', 0.870721, 'jac:', 0.5914674)],\n",
       " [(32, 41, 25, 40, '1n0uA4native', 'input:', 1.12529, 'jac:', 0.57421243),\n",
       "  (32, 41, 29, 41, '1n0uA4native', 'input:', 1.12529, 'jac:', 0.5399626),\n",
       "  (32, 41, 25, 41, '1n0uA4native', 'input:', 1.12529, 'jac:', 0.5217042)],\n",
       " [(8, 51, 10, 49, '1ne3Anative', 'input:', 0.0, 'jac:', 0.84710306),\n",
       "  (9, 48, 50, 9, '1ne3Anative', 'input:', 1.93168, 'jac:', 0.76229036),\n",
       "  (7, 28, 26, 7, '1ne3Anative', 'input:', 0.0, 'jac:', 0.6494492)],\n",
       " [(3, 64, 57, 3, '1ogwA_native', 'input:', 0.903904, 'jac:', 0.70088255),\n",
       "  (42, 49, 39, 49, '1ogwA_native', 'input:', 0.992607, 'jac:', 0.70043224),\n",
       "  (3, 64, 61, 3, '1ogwA_native', 'input:', 0.903904, 'jac:', 0.66828734)],\n",
       " [(6, 52, 52, 7, '1pgx_native', 'input:', 0.797888, 'jac:', 0.573527),\n",
       "  (6, 52, 49, 5, '1pgx_native', 'input:', 0.797888, 'jac:', 0.55625844),\n",
       "  (3, 22, 22, 0, '1pgx_native', 'input:', 1.16493, 'jac:', 0.5534142)],\n",
       " [(55, 58, 58, 52, '1r69_native', 'input:', 0.704221, 'jac:', 0.6062956),\n",
       "  (5, 59, 58, 2, '1r69_native', 'input:', 1.59842, 'jac:', 0.4724087),\n",
       "  (10, 35, 9, 29, '1r69_native', 'input:', 2.00726, 'jac:', 0.45227146)],\n",
       " [(11, 18, 18, 8, '1shfAnative', 'input:', 1.65346, 'jac:', 0.70212746),\n",
       "  (6, 57, 3, 57, '1shfAnative', 'input:', 2.16803, 'jac:', 0.62514985),\n",
       "  (42, 47, 42, 48, '1shfAnative', 'input:', 1.13229, 'jac:', 0.5705892)],\n",
       " [(44, 45, 44, 46, '1sro_native', 'input:', 1.6478399, 'jac:', 0.666712),\n",
       "  (15, 26, 25, 14, '1sro_native', 'input:', 1.41315, 'jac:', 0.64658856),\n",
       "  (57, 64, 64, 58, '1sro_native', 'input:', 0.0, 'jac:', 0.620307)],\n",
       " [(16, 37, 16, 36, '1tfi_native', 'input:', 0.48089, 'jac:', 0.6831591),\n",
       "  (0, 1, 0, 2, '1tfi_native', 'input:', 1.6097401, 'jac:', 0.6094433),\n",
       "  (10, 41, 12, 40, '1tfi_native', 'input:', 2.72965, 'jac:', 0.58794594)],\n",
       " [(42, 43, 42, 44, '1tif_native', 'input:', 1.549616, 'jac:', 0.60820675),\n",
       "  (15, 19, 18, 12, '1tif_native', 'input:', 2.26494, 'jac:', 0.49496177),\n",
       "  (6, 27, 6, 24, '1tif_native', 'input:', 1.8205, 'jac:', 0.46425706)],\n",
       " [(5, 54, 51, 5, '2cr7Anative', 'input:', 2.04564, 'jac:', 0.8107184),\n",
       "  (18, 21, 15, 21, '2cr7Anative', 'input:', 0.347621, 'jac:', 0.673157),\n",
       "  (6, 9, 3, 9, '2cr7Anative', 'input:', 2.00044, 'jac:', 0.5285207)],\n",
       " [(51, 57, 48, 57, '2f3nAnative', 'input:', 0.876848, 'jac:', 0.7829167),\n",
       "  (14, 25, 11, 25, '2f3nAnative', 'input:', 1.71576, 'jac:', 0.6857752),\n",
       "  (27, 48, 48, 24, '2f3nAnative', 'input:', 0.719637, 'jac:', 0.6119728)],\n",
       " [(26, 51, 26, 48, '2reb_2native', 'input:', 0.409663, 'jac:', 0.5660517),\n",
       "  (16, 26, 13, 25, '2reb_2native', 'input:', 1.17455, 'jac:', 0.48772794),\n",
       "  (18, 25, 11, 23, '2reb_2native', 'input:', 2.05884, 'jac:', 0.4598203)]]"
      ]
     },
     "execution_count": 50,
     "metadata": {},
     "output_type": "execute_result"
    }
   ],
   "source": [
    "jac_lst"
   ]
  },
  {
   "cell_type": "code",
   "execution_count": 46,
   "metadata": {},
   "outputs": [],
   "source": [
    "in_f = open(\"/cavern/bihuayu/protein_DP/AE_symmetry/nodiag/realVal/top3.pkl\", \"wb\")\n",
    "pickle.dump(img_lst, in_f)\n",
    "in_f.close()"
   ]
  },
  {
   "cell_type": "code",
   "execution_count": null,
   "metadata": {},
   "outputs": [],
   "source": []
  },
  {
   "cell_type": "code",
   "execution_count": null,
   "metadata": {},
   "outputs": [],
   "source": []
  },
  {
   "cell_type": "code",
   "execution_count": 8,
   "metadata": {},
   "outputs": [],
   "source": [
    "img_lst = []\n",
    "i = 0\n",
    "for test_x in it1:\n",
    "    if tf.shape(test_x['contact'])[1] > 85:\n",
    "        continue\n",
    "    img_lst.append((test_x['name'], test_x['contact']))\n",
    "    i = i + 1\n",
    "    if i > 6:\n",
    "        break"
   ]
  },
  {
   "cell_type": "code",
   "execution_count": 10,
   "metadata": {},
   "outputs": [
    {
     "ename": "StagingError",
     "evalue": "in user code:\n\n    /home/bihuayu/.conda/envs/AIML/lib/python3.8/site-packages/tensorflow/python/ops/parallel_for/control_flow_ops.py:183 f  *\n        return _pfor_impl(loop_fn, iters, parallel_iterations=parallel_iterations)\n    /home/bihuayu/.conda/envs/AIML/lib/python3.8/site-packages/tensorflow/python/ops/parallel_for/control_flow_ops.py:269 _pfor_impl  **\n        outputs.append(converter.convert(loop_fn_output))\n    /home/bihuayu/.conda/envs/AIML/lib/python3.8/site-packages/tensorflow/python/ops/parallel_for/pfor.py:1284 convert\n        output = self._convert_helper(y)\n    /home/bihuayu/.conda/envs/AIML/lib/python3.8/site-packages/tensorflow/python/ops/parallel_for/pfor.py:1457 _convert_helper\n        if flags.FLAGS.op_conversion_fallback_to_while_loop:\n    /home/bihuayu/.conda/envs/AIML/lib/python3.8/site-packages/tensorflow/python/platform/flags.py:85 __getattr__\n        wrapped(_sys.argv)\n    /home/bihuayu/.conda/envs/AIML/lib/python3.8/site-packages/absl/flags/_flagvalues.py:645 __call__\n        raise _exceptions.UnrecognizedFlagError(\n\n    UnrecognizedFlagError: Unknown command line flag 'f'\n",
     "output_type": "error",
     "traceback": [
      "\u001b[0;31m---------------------------------------------------------------------------\u001b[0m",
      "\u001b[0;31mStagingError\u001b[0m                              Traceback (most recent call last)",
      "\u001b[0;32m<ipython-input-10-d0e780cf85a7>\u001b[0m in \u001b[0;36m<module>\u001b[0;34m\u001b[0m\n\u001b[1;32m      5\u001b[0m         \u001b[0mg\u001b[0m\u001b[0;34m.\u001b[0m\u001b[0mwatch\u001b[0m\u001b[0;34m(\u001b[0m\u001b[0mx\u001b[0m\u001b[0;34m)\u001b[0m\u001b[0;34m\u001b[0m\u001b[0;34m\u001b[0m\u001b[0m\n\u001b[1;32m      6\u001b[0m         \u001b[0my\u001b[0m \u001b[0;34m=\u001b[0m \u001b[0mmodel\u001b[0m\u001b[0;34m(\u001b[0m\u001b[0mx\u001b[0m\u001b[0;34m,\u001b[0m \u001b[0mtraining\u001b[0m\u001b[0;34m=\u001b[0m\u001b[0;32mFalse\u001b[0m\u001b[0;34m)\u001b[0m\u001b[0;34m\u001b[0m\u001b[0;34m\u001b[0m\u001b[0m\n\u001b[0;32m----> 7\u001b[0;31m     \u001b[0mjacobian\u001b[0m \u001b[0;34m=\u001b[0m \u001b[0mg\u001b[0m\u001b[0;34m.\u001b[0m\u001b[0mjacobian\u001b[0m\u001b[0;34m(\u001b[0m\u001b[0my\u001b[0m\u001b[0;34m,\u001b[0m \u001b[0mx\u001b[0m\u001b[0;34m)\u001b[0m\u001b[0;34m\u001b[0m\u001b[0;34m\u001b[0m\u001b[0m\n\u001b[0m\u001b[1;32m      8\u001b[0m     \u001b[0mj\u001b[0m \u001b[0;34m=\u001b[0m \u001b[0mtf\u001b[0m\u001b[0;34m.\u001b[0m\u001b[0msqueeze\u001b[0m\u001b[0;34m(\u001b[0m\u001b[0mjacobian\u001b[0m\u001b[0;34m)\u001b[0m\u001b[0;34m\u001b[0m\u001b[0;34m\u001b[0m\u001b[0m\n\u001b[1;32m      9\u001b[0m \u001b[0;34m\u001b[0m\u001b[0m\n",
      "\u001b[0;32m~/.conda/envs/AIML/lib/python3.8/site-packages/tensorflow/python/eager/backprop.py\u001b[0m in \u001b[0;36mjacobian\u001b[0;34m(self, target, sources, unconnected_gradients, parallel_iterations, experimental_use_pfor)\u001b[0m\n\u001b[1;32m   1129\u001b[0m     \u001b[0;32mif\u001b[0m \u001b[0mexperimental_use_pfor\u001b[0m\u001b[0;34m:\u001b[0m\u001b[0;34m\u001b[0m\u001b[0;34m\u001b[0m\u001b[0m\n\u001b[1;32m   1130\u001b[0m       \u001b[0;32mtry\u001b[0m\u001b[0;34m:\u001b[0m\u001b[0;34m\u001b[0m\u001b[0;34m\u001b[0m\u001b[0m\n\u001b[0;32m-> 1131\u001b[0;31m         output = pfor_ops.pfor(loop_fn, target_size,\n\u001b[0m\u001b[1;32m   1132\u001b[0m                                parallel_iterations=parallel_iterations)\n\u001b[1;32m   1133\u001b[0m       \u001b[0;32mexcept\u001b[0m \u001b[0mValueError\u001b[0m \u001b[0;32mas\u001b[0m \u001b[0merr\u001b[0m\u001b[0;34m:\u001b[0m\u001b[0;34m\u001b[0m\u001b[0;34m\u001b[0m\u001b[0m\n",
      "\u001b[0;32m~/.conda/envs/AIML/lib/python3.8/site-packages/tensorflow/python/ops/parallel_for/control_flow_ops.py\u001b[0m in \u001b[0;36mpfor\u001b[0;34m(loop_fn, iters, parallel_iterations)\u001b[0m\n\u001b[1;32m    196\u001b[0m       \u001b[0mdef_function\u001b[0m\u001b[0;34m.\u001b[0m\u001b[0mrun_functions_eagerly\u001b[0m\u001b[0;34m(\u001b[0m\u001b[0;32mFalse\u001b[0m\u001b[0;34m)\u001b[0m\u001b[0;34m\u001b[0m\u001b[0;34m\u001b[0m\u001b[0m\n\u001b[1;32m    197\u001b[0m     \u001b[0mf\u001b[0m \u001b[0;34m=\u001b[0m \u001b[0mdef_function\u001b[0m\u001b[0;34m.\u001b[0m\u001b[0mfunction\u001b[0m\u001b[0;34m(\u001b[0m\u001b[0mf\u001b[0m\u001b[0;34m)\u001b[0m\u001b[0;34m\u001b[0m\u001b[0;34m\u001b[0m\u001b[0m\n\u001b[0;32m--> 198\u001b[0;31m   \u001b[0moutputs\u001b[0m \u001b[0;34m=\u001b[0m \u001b[0mf\u001b[0m\u001b[0;34m(\u001b[0m\u001b[0;34m)\u001b[0m\u001b[0;34m\u001b[0m\u001b[0;34m\u001b[0m\u001b[0m\n\u001b[0m\u001b[1;32m    199\u001b[0m   \u001b[0;32mif\u001b[0m \u001b[0mfunctions_run_eagerly\u001b[0m \u001b[0;32mis\u001b[0m \u001b[0;32mnot\u001b[0m \u001b[0;32mNone\u001b[0m\u001b[0;34m:\u001b[0m\u001b[0;34m\u001b[0m\u001b[0;34m\u001b[0m\u001b[0m\n\u001b[1;32m    200\u001b[0m     \u001b[0mdef_function\u001b[0m\u001b[0;34m.\u001b[0m\u001b[0mrun_functions_eagerly\u001b[0m\u001b[0;34m(\u001b[0m\u001b[0mfunctions_run_eagerly\u001b[0m\u001b[0;34m)\u001b[0m\u001b[0;34m\u001b[0m\u001b[0;34m\u001b[0m\u001b[0m\n",
      "\u001b[0;32m~/.conda/envs/AIML/lib/python3.8/site-packages/tensorflow/python/eager/def_function.py\u001b[0m in \u001b[0;36m__call__\u001b[0;34m(self, *args, **kwds)\u001b[0m\n\u001b[1;32m    578\u001b[0m         \u001b[0mxla_context\u001b[0m\u001b[0;34m.\u001b[0m\u001b[0mExit\u001b[0m\u001b[0;34m(\u001b[0m\u001b[0;34m)\u001b[0m\u001b[0;34m\u001b[0m\u001b[0;34m\u001b[0m\u001b[0m\n\u001b[1;32m    579\u001b[0m     \u001b[0;32melse\u001b[0m\u001b[0;34m:\u001b[0m\u001b[0;34m\u001b[0m\u001b[0;34m\u001b[0m\u001b[0m\n\u001b[0;32m--> 580\u001b[0;31m       \u001b[0mresult\u001b[0m \u001b[0;34m=\u001b[0m \u001b[0mself\u001b[0m\u001b[0;34m.\u001b[0m\u001b[0m_call\u001b[0m\u001b[0;34m(\u001b[0m\u001b[0;34m*\u001b[0m\u001b[0margs\u001b[0m\u001b[0;34m,\u001b[0m \u001b[0;34m**\u001b[0m\u001b[0mkwds\u001b[0m\u001b[0;34m)\u001b[0m\u001b[0;34m\u001b[0m\u001b[0;34m\u001b[0m\u001b[0m\n\u001b[0m\u001b[1;32m    581\u001b[0m \u001b[0;34m\u001b[0m\u001b[0m\n\u001b[1;32m    582\u001b[0m     \u001b[0;32mif\u001b[0m \u001b[0mtracing_count\u001b[0m \u001b[0;34m==\u001b[0m \u001b[0mself\u001b[0m\u001b[0;34m.\u001b[0m\u001b[0m_get_tracing_count\u001b[0m\u001b[0;34m(\u001b[0m\u001b[0;34m)\u001b[0m\u001b[0;34m:\u001b[0m\u001b[0;34m\u001b[0m\u001b[0;34m\u001b[0m\u001b[0m\n",
      "\u001b[0;32m~/.conda/envs/AIML/lib/python3.8/site-packages/tensorflow/python/eager/def_function.py\u001b[0m in \u001b[0;36m_call\u001b[0;34m(self, *args, **kwds)\u001b[0m\n\u001b[1;32m    625\u001b[0m       \u001b[0;31m# This is the first call of __call__, so we have to initialize.\u001b[0m\u001b[0;34m\u001b[0m\u001b[0;34m\u001b[0m\u001b[0;34m\u001b[0m\u001b[0m\n\u001b[1;32m    626\u001b[0m       \u001b[0minitializers\u001b[0m \u001b[0;34m=\u001b[0m \u001b[0;34m[\u001b[0m\u001b[0;34m]\u001b[0m\u001b[0;34m\u001b[0m\u001b[0;34m\u001b[0m\u001b[0m\n\u001b[0;32m--> 627\u001b[0;31m       \u001b[0mself\u001b[0m\u001b[0;34m.\u001b[0m\u001b[0m_initialize\u001b[0m\u001b[0;34m(\u001b[0m\u001b[0margs\u001b[0m\u001b[0;34m,\u001b[0m \u001b[0mkwds\u001b[0m\u001b[0;34m,\u001b[0m \u001b[0madd_initializers_to\u001b[0m\u001b[0;34m=\u001b[0m\u001b[0minitializers\u001b[0m\u001b[0;34m)\u001b[0m\u001b[0;34m\u001b[0m\u001b[0;34m\u001b[0m\u001b[0m\n\u001b[0m\u001b[1;32m    628\u001b[0m     \u001b[0;32mfinally\u001b[0m\u001b[0;34m:\u001b[0m\u001b[0;34m\u001b[0m\u001b[0;34m\u001b[0m\u001b[0m\n\u001b[1;32m    629\u001b[0m       \u001b[0;31m# At this point we know that the initialization is complete (or less\u001b[0m\u001b[0;34m\u001b[0m\u001b[0;34m\u001b[0m\u001b[0;34m\u001b[0m\u001b[0m\n",
      "\u001b[0;32m~/.conda/envs/AIML/lib/python3.8/site-packages/tensorflow/python/eager/def_function.py\u001b[0m in \u001b[0;36m_initialize\u001b[0;34m(self, args, kwds, add_initializers_to)\u001b[0m\n\u001b[1;32m    503\u001b[0m     \u001b[0mself\u001b[0m\u001b[0;34m.\u001b[0m\u001b[0m_graph_deleter\u001b[0m \u001b[0;34m=\u001b[0m \u001b[0mFunctionDeleter\u001b[0m\u001b[0;34m(\u001b[0m\u001b[0mself\u001b[0m\u001b[0;34m.\u001b[0m\u001b[0m_lifted_initializer_graph\u001b[0m\u001b[0;34m)\u001b[0m\u001b[0;34m\u001b[0m\u001b[0;34m\u001b[0m\u001b[0m\n\u001b[1;32m    504\u001b[0m     self._concrete_stateful_fn = (\n\u001b[0;32m--> 505\u001b[0;31m         self._stateful_fn._get_concrete_function_internal_garbage_collected(  # pylint: disable=protected-access\n\u001b[0m\u001b[1;32m    506\u001b[0m             *args, **kwds))\n\u001b[1;32m    507\u001b[0m \u001b[0;34m\u001b[0m\u001b[0m\n",
      "\u001b[0;32m~/.conda/envs/AIML/lib/python3.8/site-packages/tensorflow/python/eager/function.py\u001b[0m in \u001b[0;36m_get_concrete_function_internal_garbage_collected\u001b[0;34m(self, *args, **kwargs)\u001b[0m\n\u001b[1;32m   2444\u001b[0m       \u001b[0margs\u001b[0m\u001b[0;34m,\u001b[0m \u001b[0mkwargs\u001b[0m \u001b[0;34m=\u001b[0m \u001b[0;32mNone\u001b[0m\u001b[0;34m,\u001b[0m \u001b[0;32mNone\u001b[0m\u001b[0;34m\u001b[0m\u001b[0;34m\u001b[0m\u001b[0m\n\u001b[1;32m   2445\u001b[0m     \u001b[0;32mwith\u001b[0m \u001b[0mself\u001b[0m\u001b[0;34m.\u001b[0m\u001b[0m_lock\u001b[0m\u001b[0;34m:\u001b[0m\u001b[0;34m\u001b[0m\u001b[0;34m\u001b[0m\u001b[0m\n\u001b[0;32m-> 2446\u001b[0;31m       \u001b[0mgraph_function\u001b[0m\u001b[0;34m,\u001b[0m \u001b[0m_\u001b[0m\u001b[0;34m,\u001b[0m \u001b[0m_\u001b[0m \u001b[0;34m=\u001b[0m \u001b[0mself\u001b[0m\u001b[0;34m.\u001b[0m\u001b[0m_maybe_define_function\u001b[0m\u001b[0;34m(\u001b[0m\u001b[0margs\u001b[0m\u001b[0;34m,\u001b[0m \u001b[0mkwargs\u001b[0m\u001b[0;34m)\u001b[0m\u001b[0;34m\u001b[0m\u001b[0;34m\u001b[0m\u001b[0m\n\u001b[0m\u001b[1;32m   2447\u001b[0m     \u001b[0;32mreturn\u001b[0m \u001b[0mgraph_function\u001b[0m\u001b[0;34m\u001b[0m\u001b[0;34m\u001b[0m\u001b[0m\n\u001b[1;32m   2448\u001b[0m \u001b[0;34m\u001b[0m\u001b[0m\n",
      "\u001b[0;32m~/.conda/envs/AIML/lib/python3.8/site-packages/tensorflow/python/eager/function.py\u001b[0m in \u001b[0;36m_maybe_define_function\u001b[0;34m(self, args, kwargs)\u001b[0m\n\u001b[1;32m   2775\u001b[0m \u001b[0;34m\u001b[0m\u001b[0m\n\u001b[1;32m   2776\u001b[0m       \u001b[0mself\u001b[0m\u001b[0;34m.\u001b[0m\u001b[0m_function_cache\u001b[0m\u001b[0;34m.\u001b[0m\u001b[0mmissed\u001b[0m\u001b[0;34m.\u001b[0m\u001b[0madd\u001b[0m\u001b[0;34m(\u001b[0m\u001b[0mcall_context_key\u001b[0m\u001b[0;34m)\u001b[0m\u001b[0;34m\u001b[0m\u001b[0;34m\u001b[0m\u001b[0m\n\u001b[0;32m-> 2777\u001b[0;31m       \u001b[0mgraph_function\u001b[0m \u001b[0;34m=\u001b[0m \u001b[0mself\u001b[0m\u001b[0;34m.\u001b[0m\u001b[0m_create_graph_function\u001b[0m\u001b[0;34m(\u001b[0m\u001b[0margs\u001b[0m\u001b[0;34m,\u001b[0m \u001b[0mkwargs\u001b[0m\u001b[0;34m)\u001b[0m\u001b[0;34m\u001b[0m\u001b[0;34m\u001b[0m\u001b[0m\n\u001b[0m\u001b[1;32m   2778\u001b[0m       \u001b[0mself\u001b[0m\u001b[0;34m.\u001b[0m\u001b[0m_function_cache\u001b[0m\u001b[0;34m.\u001b[0m\u001b[0mprimary\u001b[0m\u001b[0;34m[\u001b[0m\u001b[0mcache_key\u001b[0m\u001b[0;34m]\u001b[0m \u001b[0;34m=\u001b[0m \u001b[0mgraph_function\u001b[0m\u001b[0;34m\u001b[0m\u001b[0;34m\u001b[0m\u001b[0m\n\u001b[1;32m   2779\u001b[0m       \u001b[0;32mreturn\u001b[0m \u001b[0mgraph_function\u001b[0m\u001b[0;34m,\u001b[0m \u001b[0margs\u001b[0m\u001b[0;34m,\u001b[0m \u001b[0mkwargs\u001b[0m\u001b[0;34m\u001b[0m\u001b[0;34m\u001b[0m\u001b[0m\n",
      "\u001b[0;32m~/.conda/envs/AIML/lib/python3.8/site-packages/tensorflow/python/eager/function.py\u001b[0m in \u001b[0;36m_create_graph_function\u001b[0;34m(self, args, kwargs, override_flat_arg_shapes)\u001b[0m\n\u001b[1;32m   2655\u001b[0m     \u001b[0marg_names\u001b[0m \u001b[0;34m=\u001b[0m \u001b[0mbase_arg_names\u001b[0m \u001b[0;34m+\u001b[0m \u001b[0mmissing_arg_names\u001b[0m\u001b[0;34m\u001b[0m\u001b[0;34m\u001b[0m\u001b[0m\n\u001b[1;32m   2656\u001b[0m     graph_function = ConcreteFunction(\n\u001b[0;32m-> 2657\u001b[0;31m         func_graph_module.func_graph_from_py_func(\n\u001b[0m\u001b[1;32m   2658\u001b[0m             \u001b[0mself\u001b[0m\u001b[0;34m.\u001b[0m\u001b[0m_name\u001b[0m\u001b[0;34m,\u001b[0m\u001b[0;34m\u001b[0m\u001b[0;34m\u001b[0m\u001b[0m\n\u001b[1;32m   2659\u001b[0m             \u001b[0mself\u001b[0m\u001b[0;34m.\u001b[0m\u001b[0m_python_function\u001b[0m\u001b[0;34m,\u001b[0m\u001b[0;34m\u001b[0m\u001b[0;34m\u001b[0m\u001b[0m\n",
      "\u001b[0;32m~/.conda/envs/AIML/lib/python3.8/site-packages/tensorflow/python/framework/func_graph.py\u001b[0m in \u001b[0;36mfunc_graph_from_py_func\u001b[0;34m(name, python_func, args, kwargs, signature, func_graph, autograph, autograph_options, add_control_dependencies, arg_names, op_return_value, collections, capture_by_value, override_flat_arg_shapes)\u001b[0m\n\u001b[1;32m    979\u001b[0m         \u001b[0m_\u001b[0m\u001b[0;34m,\u001b[0m \u001b[0moriginal_func\u001b[0m \u001b[0;34m=\u001b[0m \u001b[0mtf_decorator\u001b[0m\u001b[0;34m.\u001b[0m\u001b[0munwrap\u001b[0m\u001b[0;34m(\u001b[0m\u001b[0mpython_func\u001b[0m\u001b[0;34m)\u001b[0m\u001b[0;34m\u001b[0m\u001b[0;34m\u001b[0m\u001b[0m\n\u001b[1;32m    980\u001b[0m \u001b[0;34m\u001b[0m\u001b[0m\n\u001b[0;32m--> 981\u001b[0;31m       \u001b[0mfunc_outputs\u001b[0m \u001b[0;34m=\u001b[0m \u001b[0mpython_func\u001b[0m\u001b[0;34m(\u001b[0m\u001b[0;34m*\u001b[0m\u001b[0mfunc_args\u001b[0m\u001b[0;34m,\u001b[0m \u001b[0;34m**\u001b[0m\u001b[0mfunc_kwargs\u001b[0m\u001b[0;34m)\u001b[0m\u001b[0;34m\u001b[0m\u001b[0;34m\u001b[0m\u001b[0m\n\u001b[0m\u001b[1;32m    982\u001b[0m \u001b[0;34m\u001b[0m\u001b[0m\n\u001b[1;32m    983\u001b[0m       \u001b[0;31m# invariant: `func_outputs` contains only Tensors, CompositeTensors,\u001b[0m\u001b[0;34m\u001b[0m\u001b[0;34m\u001b[0m\u001b[0;34m\u001b[0m\u001b[0m\n",
      "\u001b[0;32m~/.conda/envs/AIML/lib/python3.8/site-packages/tensorflow/python/eager/def_function.py\u001b[0m in \u001b[0;36mwrapped_fn\u001b[0;34m(*args, **kwds)\u001b[0m\n\u001b[1;32m    439\u001b[0m         \u001b[0;31m# __wrapped__ allows AutoGraph to swap in a converted function. We give\u001b[0m\u001b[0;34m\u001b[0m\u001b[0;34m\u001b[0m\u001b[0;34m\u001b[0m\u001b[0m\n\u001b[1;32m    440\u001b[0m         \u001b[0;31m# the function a weak reference to itself to avoid a reference cycle.\u001b[0m\u001b[0;34m\u001b[0m\u001b[0;34m\u001b[0m\u001b[0;34m\u001b[0m\u001b[0m\n\u001b[0;32m--> 441\u001b[0;31m         \u001b[0;32mreturn\u001b[0m \u001b[0mweak_wrapped_fn\u001b[0m\u001b[0;34m(\u001b[0m\u001b[0;34m)\u001b[0m\u001b[0;34m.\u001b[0m\u001b[0m__wrapped__\u001b[0m\u001b[0;34m(\u001b[0m\u001b[0;34m*\u001b[0m\u001b[0margs\u001b[0m\u001b[0;34m,\u001b[0m \u001b[0;34m**\u001b[0m\u001b[0mkwds\u001b[0m\u001b[0;34m)\u001b[0m\u001b[0;34m\u001b[0m\u001b[0;34m\u001b[0m\u001b[0m\n\u001b[0m\u001b[1;32m    442\u001b[0m     \u001b[0mweak_wrapped_fn\u001b[0m \u001b[0;34m=\u001b[0m \u001b[0mweakref\u001b[0m\u001b[0;34m.\u001b[0m\u001b[0mref\u001b[0m\u001b[0;34m(\u001b[0m\u001b[0mwrapped_fn\u001b[0m\u001b[0;34m)\u001b[0m\u001b[0;34m\u001b[0m\u001b[0;34m\u001b[0m\u001b[0m\n\u001b[1;32m    443\u001b[0m \u001b[0;34m\u001b[0m\u001b[0m\n",
      "\u001b[0;32m~/.conda/envs/AIML/lib/python3.8/site-packages/tensorflow/python/framework/func_graph.py\u001b[0m in \u001b[0;36mwrapper\u001b[0;34m(*args, **kwargs)\u001b[0m\n\u001b[1;32m    966\u001b[0m           \u001b[0;32mexcept\u001b[0m \u001b[0mException\u001b[0m \u001b[0;32mas\u001b[0m \u001b[0me\u001b[0m\u001b[0;34m:\u001b[0m  \u001b[0;31m# pylint:disable=broad-except\u001b[0m\u001b[0;34m\u001b[0m\u001b[0;34m\u001b[0m\u001b[0m\n\u001b[1;32m    967\u001b[0m             \u001b[0;32mif\u001b[0m \u001b[0mhasattr\u001b[0m\u001b[0;34m(\u001b[0m\u001b[0me\u001b[0m\u001b[0;34m,\u001b[0m \u001b[0;34m\"ag_error_metadata\"\u001b[0m\u001b[0;34m)\u001b[0m\u001b[0;34m:\u001b[0m\u001b[0;34m\u001b[0m\u001b[0;34m\u001b[0m\u001b[0m\n\u001b[0;32m--> 968\u001b[0;31m               \u001b[0;32mraise\u001b[0m \u001b[0me\u001b[0m\u001b[0;34m.\u001b[0m\u001b[0mag_error_metadata\u001b[0m\u001b[0;34m.\u001b[0m\u001b[0mto_exception\u001b[0m\u001b[0;34m(\u001b[0m\u001b[0me\u001b[0m\u001b[0;34m)\u001b[0m\u001b[0;34m\u001b[0m\u001b[0;34m\u001b[0m\u001b[0m\n\u001b[0m\u001b[1;32m    969\u001b[0m             \u001b[0;32melse\u001b[0m\u001b[0;34m:\u001b[0m\u001b[0;34m\u001b[0m\u001b[0;34m\u001b[0m\u001b[0m\n\u001b[1;32m    970\u001b[0m               \u001b[0;32mraise\u001b[0m\u001b[0;34m\u001b[0m\u001b[0;34m\u001b[0m\u001b[0m\n",
      "\u001b[0;31mStagingError\u001b[0m: in user code:\n\n    /home/bihuayu/.conda/envs/AIML/lib/python3.8/site-packages/tensorflow/python/ops/parallel_for/control_flow_ops.py:183 f  *\n        return _pfor_impl(loop_fn, iters, parallel_iterations=parallel_iterations)\n    /home/bihuayu/.conda/envs/AIML/lib/python3.8/site-packages/tensorflow/python/ops/parallel_for/control_flow_ops.py:269 _pfor_impl  **\n        outputs.append(converter.convert(loop_fn_output))\n    /home/bihuayu/.conda/envs/AIML/lib/python3.8/site-packages/tensorflow/python/ops/parallel_for/pfor.py:1284 convert\n        output = self._convert_helper(y)\n    /home/bihuayu/.conda/envs/AIML/lib/python3.8/site-packages/tensorflow/python/ops/parallel_for/pfor.py:1457 _convert_helper\n        if flags.FLAGS.op_conversion_fallback_to_while_loop:\n    /home/bihuayu/.conda/envs/AIML/lib/python3.8/site-packages/tensorflow/python/platform/flags.py:85 __getattr__\n        wrapped(_sys.argv)\n    /home/bihuayu/.conda/envs/AIML/lib/python3.8/site-packages/absl/flags/_flagvalues.py:645 __call__\n        raise _exceptions.UnrecognizedFlagError(\n\n    UnrecognizedFlagError: Unknown command line flag 'f'\n"
     ]
    }
   ],
   "source": [
    "jac_lst = []\n",
    "k = 6\n",
    "for name, x in img_lst:\n",
    "    with tf.GradientTape() as g:\n",
    "        g.watch(x)\n",
    "        y = model(x, training=False)\n",
    "    jacobian = g.jacobian(y, x)\n",
    "    j = tf.squeeze(jacobian)\n",
    "    \n",
    "    J_shape = tf.shape((j))\n",
    "    no_self_interaction = np.ones(J_shape)\n",
    "    for m in range(J_shape[0]):\n",
    "        for n in range(m,J_shape[0]):\n",
    "            no_self_interaction[m,n,m,n] = 0\n",
    "            no_self_interaction[m,n,n,m] = 0\n",
    "            no_self_interaction[n,m,m,n] = 0\n",
    "            no_self_interaction[n,m,n,m] = 0\n",
    "    x = j*no_self_interaction\n",
    "    top_values, top_indices = tf.nn.top_k(tf.reshape(x, (-1,)), k)\n",
    "    top_list = []\n",
    "    for max_id in top_indices:\n",
    "        d1 = (J_shape[1]*J_shape[2]*J_shape[3])\n",
    "        d2 = (J_shape[2]*J_shape[3])\n",
    "        d3 = J_shape[3]\n",
    "        ele_num = max_id + 1\n",
    "        i1 = ele_num//d1 - 1 if ele_num%d1==0 else ele_num//d1\n",
    "        i2 = (ele_num - d1*i1)//d2 - 1 if (ele_num - d1*i1)%d2 == 0 else (ele_num - d1*i1)//d2\n",
    "        i3 = (ele_num - d1*i1 - d2*i2) // d3 - 1 if (ele_num - d1*i1 - d2*i2)%d3 == 0 else (ele_num - d1*i1 - d2*i2) // d3\n",
    "        i4 = ele_num - d1*i1 - d2*i2 - i3*d3 - 1\n",
    "        if i1 < i2:\n",
    "            top_list.append((i1.numpy(), i2.numpy(), i3.numpy(), i4.numpy(), 'name', name.numpy()[0], 'input:', test_img[0,i1,i2,0].numpy(), 'jac:', j[i1,i2,i3,i4].numpy()))\n",
    "    jac_lst.append(top_list)"
   ]
  },
  {
   "cell_type": "code",
   "execution_count": null,
   "metadata": {},
   "outputs": [],
   "source": [
    "jac_lst   "
   ]
  },
  {
   "cell_type": "markdown",
   "metadata": {},
   "source": [
    "## beta sheet"
   ]
  },
  {
   "cell_type": "code",
   "execution_count": 14,
   "metadata": {},
   "outputs": [
    {
     "name": "stdout",
     "output_type": "stream",
     "text": [
      "res1:  7\n",
      "20\n",
      "21\n",
      "res1:  8\n",
      "20\n",
      "res1:  9\n",
      "18\n",
      "res1:  10\n",
      "res1:  11\n",
      "16\n",
      "17\n",
      "res1:  12\n",
      "16\n",
      "18\n"
     ]
    }
   ],
   "source": [
    "for i in range(7, 13):\n",
    "    zero = tf.constant(0, dtype=tf.float32)\n",
    "    where = tf.not_equal(test_img[0,i,:,0], zero)\n",
    "    indices = tf.where(where)\n",
    "    print(\"res1: \", i)\n",
    "    for l in indices[:,0]:\n",
    "        l = l.numpy()\n",
    "        if (l >= 16) & (l <= 21):\n",
    "            print(l)"
   ]
  },
  {
   "cell_type": "markdown",
   "metadata": {},
   "source": [
    "### new contact & changed preexisted contact"
   ]
  },
  {
   "cell_type": "code",
   "execution_count": 16,
   "metadata": {},
   "outputs": [],
   "source": [
    "# * test\n",
    "# x = tf.constant([[1, 2],[3, 4]])\n",
    "# y = tf.constant([[1, 3],[5, 4]])\n",
    "# x*y             "
   ]
  },
  {
   "cell_type": "code",
   "execution_count": 17,
   "metadata": {},
   "outputs": [
    {
     "name": "stdout",
     "output_type": "stream",
     "text": [
      "5 top list for contact (7,20) is as following:\n",
      "larger: [20 7] 1.20336974\n",
      "create: [19 6] 0.650218487\n",
      "create: [17 4] 0.423110306\n",
      "create: [17 5] 0.371816427\n",
      "create: [19 7] 0.343650043\n",
      "5 top list for contact (7,21) is as following:\n",
      "larger: [7 21] 0.555313468\n",
      "create: [10 19] 0.225705162\n",
      "create: [8 21] 0.210322663\n",
      "create: [5 25] 0.208317339\n",
      "create: [23 11] 0.19746089\n",
      "5 top list for contact (8,20) is as following:\n",
      "larger: [8 20] 0.44977209\n",
      "larger: [20 8] 0.363838017\n",
      "create: [7 24] 0.257583737\n",
      "create: [10 21] 0.246806175\n",
      "create: [5 19] 0.207430646\n",
      "5 top list for contact (9,18) is as following:\n",
      "larger: [18 9] 1.08279192\n",
      "create: [19 9] 0.361117125\n",
      "create: [21 9] 0.350409925\n",
      "create: [15 3] 0.29725185\n",
      "create: [17 8] 0.280456603\n",
      "5 top list for contact (11,16) is as following:\n",
      "larger: [16 11] 0.596743703\n",
      "create: [16 10] 0.238352224\n",
      "create: [15 11] 0.199066609\n",
      "create: [14 11] 0.172527462\n",
      "smaller: [18 12] -0.142550379\n",
      "5 top list for contact (11,17) is as following:\n",
      "larger: [11 17] 1.22872925\n",
      "create: [10 17] 0.516258\n",
      "create: [9 19] 0.41244632\n",
      "create: [11 19] 0.386116445\n",
      "create: [6 16] 0.329942048\n",
      "5 top list for contact (12,16) is as following:\n",
      "larger: [16 12] 0.575150907\n",
      "larger: [12 16] 0.266891867\n",
      "create: [17 12] 0.259974688\n",
      "create: [16 5] 0.229536\n",
      "create: [16 9] 0.222041786\n",
      "5 top list for contact (12,18) is as following:\n",
      "larger: [12 18] 1.28581691\n",
      "create: [12 20] 0.491009802\n",
      "create: [12 15] 0.463713318\n",
      "create: [12 17] 0.395066738\n",
      "create: [7 14] 0.33806479\n"
     ]
    }
   ],
   "source": [
    "import numpy\n",
    "inputs = tf.squeeze(test_img)\n",
    "k = 5\n",
    "zero = tf.constant(0, dtype=tf.float32)\n",
    "one = tf.constant(1, dtype=tf.float32)\n",
    "boolmax1 = tf.where(tf.equal(inputs, zero), one, zero)\n",
    "\n",
    "for index in [[7,20], [7,21], [8,20], [9,18], [11,16], [11,17], [12,16], [12,18]]:\n",
    "    boolmax2 = tf.where(tf.less(j[index[0],index[1],:,:], zero), one, zero)\n",
    "    boolmax3 = tf.where(tf.equal(boolmax1*boolmax2, zero), one, zero) # Elementwise multiplication\n",
    "    boolmax = tf.linalg.set_diag(boolmax3, tf.zeros(boolmax3.shape[0:-1]))\n",
    "    x = tf.abs(j[index[0],index[1],:,:])*boolmax\n",
    "    x_shape = tf.shape(x)\n",
    "    top_values, top_indices = tf.nn.top_k(tf.reshape(x, (-1,)), k)\n",
    "    top_indices = tf.stack(((top_indices // x_shape[1]), (top_indices % x_shape[1])), -1)\n",
    "    p = tf.stop_gradient(top_indices[1])\n",
    "    print(\"5 top list for contact (\" + str(index[0]) + \",\" + str(index[1]) + \") is as following:\")\n",
    "    for i in range(len(top_values)):\n",
    "        if (j[index[0],index[1],top_indices[i][0],top_indices[i][1]] > 0) and (inputs[top_indices[i][0],top_indices[i][1]] == 0):\n",
    "            tf.print(\"create:\", top_indices[i], j[index[0],index[1],top_indices[i][0],top_indices[i][1]])\n",
    "        elif (inputs[top_indices[i][0],top_indices[i][1]] > 0) and (j[index[0],index[1],top_indices[i][0],top_indices[i][1]] > 0):\n",
    "            tf.print(\"larger:\", top_indices[i], j[index[0],index[1],top_indices[i][0],top_indices[i][1]])\n",
    "        elif (inputs[top_indices[i][0],top_indices[i][1]] > 0) and (j[index[0],index[1],top_indices[i][0],top_indices[i][1]] < 0):\n",
    "            tf.print(\"smaller:\", top_indices[i], j[index[0],index[1],top_indices[i][0],top_indices[i][1]])\n",
    "#         else:\n",
    "#             tf.print(\"no contact\")\n",
    "#             tf.print(top_indices[i], inputs[top_indices[i][0],top_indices[i][1]], j[index[0],index[1],top_indices[i][0],top_indices[i][1]])"
   ]
  },
  {
   "cell_type": "markdown",
   "metadata": {},
   "source": [
    "### only explore preexisted contact"
   ]
  },
  {
   "cell_type": "code",
   "execution_count": 18,
   "metadata": {},
   "outputs": [
    {
     "name": "stdout",
     "output_type": "stream",
     "text": [
      "5 top list for contact (7,20) is as following:\n",
      "[20 7] 1.20336974\n",
      "[21 7] -0.091566667\n",
      "[11 10] -0.0820993707\n",
      "[12 11] 0.0797392949\n",
      "[16 15] -0.0747820735\n",
      "5 top list for contact (7,21) is as following:\n",
      "[7 21] 0.555313468\n",
      "[21 7] 0.145349234\n",
      "[22 6] 0.0841091275\n",
      "[16 11] -0.0686747208\n",
      "[12 16] -0.0632474795\n",
      "5 top list for contact (8,20) is as following:\n",
      "[8 20] 0.44977209\n",
      "[20 8] 0.363838017\n",
      "[18 9] -0.133722156\n",
      "[15 14] 0.133619189\n",
      "[16 11] 0.124464028\n",
      "5 top list for contact (9,18) is as following:\n",
      "[18 9] 1.08279192\n",
      "[16 12] -0.135840803\n",
      "[12 11] 0.119769707\n",
      "[15 14] -0.0843777284\n",
      "[13 11] 0.0843234062\n",
      "5 top list for contact (11,16) is as following:\n",
      "[16 11] 0.596743703\n",
      "[18 12] -0.142550379\n",
      "[12 13] 0.0921049193\n",
      "[17 11] 0.0877237618\n",
      "[12 16] -0.084119752\n",
      "5 top list for contact (11,17) is as following:\n",
      "[11 17] 1.22872925\n",
      "[12 16] -0.315973073\n",
      "[11 16] 0.186510384\n",
      "[12 18] 0.165611148\n",
      "[14 15] 0.151344597\n",
      "5 top list for contact (12,16) is as following:\n",
      "[16 12] 0.575150907\n",
      "[12 16] 0.266891867\n",
      "[17 11] 0.176951647\n",
      "[18 12] -0.147644013\n",
      "[11 13] 0.128444701\n",
      "5 top list for contact (12,18) is as following:\n",
      "[12 18] 1.28581691\n",
      "[18 17] 0.168769389\n",
      "[16 15] 0.165297821\n",
      "[9 18] 0.161467642\n",
      "[11 16] -0.157728657\n"
     ]
    }
   ],
   "source": [
    "import numpy\n",
    "inputs = tf.squeeze(test_img)\n",
    "zero = tf.constant(0, dtype=tf.float32)\n",
    "one = tf.constant(1, dtype=tf.float32)\n",
    "boolmax = tf.where(tf.not_equal(inputs, zero), one, zero)\n",
    "k = 5\n",
    "for index in [[7,20], [7,21], [8,20], [9,18], [11,16], [11,17], [12,16], [12,18]]:\n",
    "    x = tf.abs(j[index[0],index[1],:,:]) * boolmax\n",
    "    x_shape = tf.shape(x)\n",
    "    top_values, top_indices = tf.nn.top_k(tf.reshape(x, (-1,)), k)\n",
    "    top_indices = tf.stack(((top_indices // x_shape[1]), (top_indices % x_shape[1])), -1)\n",
    "    p = tf.stop_gradient(top_indices[1])\n",
    "    print(\"5 top list for contact (\" + str(index[0]) + \",\" + str(index[1]) + \") is as following:\")\n",
    "    for i in range(len(top_values)):\n",
    "        tf.print(top_indices[i], j[index[0],index[1],top_indices[i][0],top_indices[i][1]])"
   ]
  },
  {
   "cell_type": "markdown",
   "metadata": {},
   "source": [
    "## alpha helix"
   ]
  },
  {
   "cell_type": "code",
   "execution_count": 19,
   "metadata": {},
   "outputs": [
    {
     "name": "stdout",
     "output_type": "stream",
     "text": [
      "res1:  34\n",
      "37\n",
      "38\n",
      "res1:  35\n",
      "39\n",
      "res1:  36\n",
      "res1:  37\n",
      "40\n",
      "41\n",
      "res1:  38\n",
      "42\n",
      "res1:  39\n",
      "43\n",
      "res1:  40\n",
      "43\n",
      "44\n",
      "res1:  41\n",
      "44\n",
      "45\n",
      "res1:  42\n",
      "46\n",
      "res1:  43\n",
      "47\n",
      "res1:  44\n",
      "48\n",
      "res1:  45\n",
      "49\n",
      "res1:  46\n",
      "50\n",
      "res1:  47\n",
      "50\n",
      "51\n",
      "res1:  48\n",
      "51\n",
      "52\n",
      "res1:  49\n",
      "53\n",
      "res1:  50\n",
      "53\n",
      "54\n",
      "res1:  51\n",
      "54\n",
      "55\n",
      "res1:  52\n",
      "55\n",
      "res1:  53\n",
      "res1:  54\n",
      "res1:  55\n"
     ]
    }
   ],
   "source": [
    "for i in range(34, 56):\n",
    "    zero = tf.constant(0, dtype=tf.float32)\n",
    "    where = tf.not_equal(test_img[0,i,:,0], zero)\n",
    "    indices = tf.where(where)\n",
    "    print(\"res1: \", i)\n",
    "    for l in indices[:,0]:\n",
    "        l = l.numpy()\n",
    "        if (l > i+2) & (l in range(35,56)):\n",
    "            print(l)"
   ]
  },
  {
   "cell_type": "markdown",
   "metadata": {},
   "source": [
    "### new contact & changed preexisted contact"
   ]
  },
  {
   "cell_type": "code",
   "execution_count": 21,
   "metadata": {},
   "outputs": [
    {
     "name": "stdout",
     "output_type": "stream",
     "text": [
      "5 top list for contact (34,37) is as following:\n",
      "larger: [34 37] 0.679274082\n",
      "create: [35 38] 0.226662204\n",
      "create: [38 36] 0.211285919\n",
      "create: [23 42] 0.202790409\n",
      "create: [33 41] 0.186433136\n",
      "5 top list for contact (37,40) is as following:\n",
      "larger: [40 37] 0.557168663\n",
      "create: [40 34] 0.26301077\n",
      "larger: [37 40] 0.227177978\n",
      "larger: [39 38] 0.221991271\n",
      "create: [41 35] 0.219683141\n",
      "5 top list for contact (40,43) is as following:\n",
      "larger: [40 43] 0.602678537\n",
      "larger: [43 40] 0.331802666\n",
      "larger: [41 43] 0.211309612\n",
      "create: [39 45] 0.178866833\n",
      "create: [37 43] 0.174839973\n",
      "5 top list for contact (43,47) is as following:\n",
      "larger: [47 43] 0.535231173\n",
      "larger: [43 47] 0.27964589\n",
      "create: [43 48] 0.262305319\n",
      "create: [53 43] 0.259379864\n",
      "create: [53 41] 0.217548668\n",
      "5 top list for contact (47,50) is as following:\n",
      "larger: [50 47] 0.705416858\n",
      "create: [50 44] 0.278276145\n",
      "create: [52 41] 0.23772487\n",
      "larger: [47 50] 0.213607416\n",
      "create: [50 45] 0.198358104\n",
      "5 top list for contact (50,54) is as following:\n",
      "larger: [54 50] 0.424737275\n",
      "larger: [50 54] 0.390851676\n",
      "create: [47 54] 0.282544881\n",
      "create: [54 47] 0.173036635\n",
      "smaller: [53 50] -0.169553325\n"
     ]
    }
   ],
   "source": [
    "import numpy\n",
    "inputs = tf.squeeze(test_img)\n",
    "k = 5\n",
    "zero = tf.constant(0, dtype=tf.float32)\n",
    "one = tf.constant(1, dtype=tf.float32)\n",
    "boolmax1 = tf.where(tf.equal(inputs, zero), one, zero)\n",
    "\n",
    "for index in [[34,37], [37,40], [40,43], [43,47], [47,50], [50,54]]:\n",
    "    boolmax2 = tf.where(tf.less(j[index[0],index[1],:,:], zero), one, zero)\n",
    "    boolmax3 = tf.where(tf.equal(boolmax1*boolmax2, zero), one, zero) # Elementwise multiplication\n",
    "    boolmax = tf.linalg.set_diag(boolmax3, tf.zeros(boolmax3.shape[0:-1]))\n",
    "    x = tf.abs(j[index[0],index[1],:,:])*boolmax\n",
    "    x_shape = tf.shape(x)\n",
    "    top_values, top_indices = tf.nn.top_k(tf.reshape(x, (-1,)), k)\n",
    "    top_indices = tf.stack(((top_indices // x_shape[1]), (top_indices % x_shape[1])), -1)\n",
    "    p = tf.stop_gradient(top_indices[1])\n",
    "    print(\"5 top list for contact (\" + str(index[0]) + \",\" + str(index[1]) + \") is as following:\")\n",
    "    for i in range(len(top_values)):\n",
    "        if (j[index[0],index[1],top_indices[i][0],top_indices[i][1]] > 0) and (inputs[top_indices[i][0],top_indices[i][1]] == 0):\n",
    "            tf.print(\"create:\", top_indices[i], j[index[0],index[1],top_indices[i][0],top_indices[i][1]])\n",
    "        elif (inputs[top_indices[i][0],top_indices[i][1]] > 0) and (j[index[0],index[1],top_indices[i][0],top_indices[i][1]] > 0):\n",
    "            tf.print(\"larger:\", top_indices[i], j[index[0],index[1],top_indices[i][0],top_indices[i][1]])\n",
    "        elif (inputs[top_indices[i][0],top_indices[i][1]] > 0) and (j[index[0],index[1],top_indices[i][0],top_indices[i][1]] < 0):\n",
    "            tf.print(\"smaller:\", top_indices[i], j[index[0],index[1],top_indices[i][0],top_indices[i][1]])\n",
    "#         else:\n",
    "#             tf.print(\"no contact\")\n",
    "#             tf.print(top_indices[i], inputs[top_indices[i][0],top_indices[i][1]], j[index[0],index[1],top_indices[i][0],top_indices[i][1]])"
   ]
  },
  {
   "cell_type": "markdown",
   "metadata": {},
   "source": [
    "### only explore preexisted contact"
   ]
  },
  {
   "cell_type": "code",
   "execution_count": 22,
   "metadata": {},
   "outputs": [
    {
     "name": "stdout",
     "output_type": "stream",
     "text": [
      "5 top list for contact (34,37) is as following:\n",
      "[34 37] 0.679274082\n",
      "[38 34] -0.168864891\n",
      "[37 38] -0.123937242\n",
      "[37 35] -0.121563278\n",
      "[37 34] 0.114544347\n",
      "5 top list for contact (37,40) is as following:\n",
      "[40 37] 0.557168663\n",
      "[37 40] 0.227177978\n",
      "[39 38] 0.221991271\n",
      "[39 35] -0.116035841\n",
      "[42 41] -0.101212338\n",
      "5 top list for contact (40,43) is as following:\n",
      "[40 43] 0.602678537\n",
      "[43 40] 0.331802666\n",
      "[41 43] 0.211309612\n",
      "[44 40] -0.160233736\n",
      "[42 41] -0.107835889\n",
      "5 top list for contact (43,47) is as following:\n",
      "[47 43] 0.535231173\n",
      "[43 47] 0.27964589\n",
      "[45 44] 0.199227676\n",
      "[46 45] -0.151973903\n",
      "[42 43] -0.0877351537\n",
      "5 top list for contact (47,50) is as following:\n",
      "[50 47] 0.705416858\n",
      "[47 50] 0.213607416\n",
      "[46 45] -0.128765717\n",
      "[52 48] -0.0882388204\n",
      "[46 47] -0.0871396214\n",
      "5 top list for contact (50,54) is as following:\n",
      "[54 50] 0.424737275\n",
      "[50 54] 0.390851676\n",
      "[53 50] -0.169553325\n",
      "[50 49] -0.125376374\n",
      "[53 49] 0.111280821\n"
     ]
    }
   ],
   "source": [
    "import numpy\n",
    "inputs = tf.squeeze(test_img)\n",
    "zero = tf.constant(0, dtype=tf.float32)\n",
    "one = tf.constant(1, dtype=tf.float32)\n",
    "boolmax = tf.where(tf.not_equal(inputs, zero), one, zero)\n",
    "k = 5\n",
    "for index in [[34,37], [37,40], [40,43], [43,47], [47,50], [50,54]]:\n",
    "    x = tf.abs(j[index[0],index[1],:,:]) * boolmax\n",
    "    x_shape = tf.shape(x)\n",
    "    top_values, top_indices = tf.nn.top_k(tf.reshape(x, (-1,)), k)\n",
    "    top_indices = tf.stack(((top_indices // x_shape[1]), (top_indices % x_shape[1])), -1)\n",
    "    p = tf.stop_gradient(top_indices[1])\n",
    "    print(\"5 top list for contact (\" + str(index[0]) + \",\" + str(index[1]) + \") is as following:\")\n",
    "    for i in range(len(top_values)):\n",
    "        tf.print(top_indices[i], j[index[0],index[1],top_indices[i][0],top_indices[i][1]])"
   ]
  },
  {
   "cell_type": "markdown",
   "metadata": {},
   "source": [
    "## loop residues"
   ]
  },
  {
   "cell_type": "code",
   "execution_count": 23,
   "metadata": {},
   "outputs": [
    {
     "name": "stdout",
     "output_type": "stream",
     "text": [
      "res1:  13\n",
      "14\n",
      "34\n",
      "res1:  14\n",
      "15\n",
      "res1:  15\n",
      "res1:  22\n",
      "23\n",
      "24\n",
      "res1:  23\n",
      "24\n",
      "res1:  24\n",
      "25\n",
      "res1:  25\n",
      "res1:  33\n",
      "34\n",
      "res1:  34\n"
     ]
    }
   ],
   "source": [
    "for i in [13,14,15,22,23,24,25,33,34]:\n",
    "    zero = tf.constant(0, dtype=tf.float32)\n",
    "    where = tf.not_equal(test_img[0,i,:,0], zero)\n",
    "    indices = tf.where(where)\n",
    "    print(\"res1: \", i)\n",
    "    for l in indices[:,0]:\n",
    "        l = l.numpy()\n",
    "        if (l > i) & (l in [13,14,15,22,23,24,25,33,34]):\n",
    "            print(l)"
   ]
  },
  {
   "cell_type": "markdown",
   "metadata": {},
   "source": [
    "### new contact & changed preexisted contact"
   ]
  },
  {
   "cell_type": "code",
   "execution_count": 25,
   "metadata": {},
   "outputs": [
    {
     "name": "stdout",
     "output_type": "stream",
     "text": [
      "5 top list for contact (13,14) is as following:\n",
      "larger: [14 13] 0.332886845\n",
      "larger: [13 14] 0.202233553\n",
      "create: [15 13] 0.120329671\n",
      "create: [14 16] 0.116340742\n",
      "create: [17 13] 0.0616257861\n",
      "5 top list for contact (14,15) is as following:\n",
      "larger: [15 14] 0.239315361\n",
      "create: [14 16] 0.184816\n",
      "larger: [14 15] 0.137255296\n",
      "create: [16 14] 0.0984833464\n",
      "create: [17 13] 0.0870871767\n",
      "5 top list for contact (22,23) is as following:\n",
      "larger: [23 22] 0.173660189\n",
      "larger: [22 23] 0.1504962\n",
      "create: [22 20] 0.0664015263\n",
      "larger: [22 21] 0.0585644282\n",
      "larger: [24 21] 0.0584140271\n",
      "5 top list for contact (22,24) is as following:\n",
      "larger: [22 24] 0.562806547\n",
      "larger: [24 22] 0.472083688\n",
      "create: [22 25] 0.227881357\n",
      "create: [25 15] 0.215938821\n",
      "create: [26 24] 0.156710416\n",
      "5 top list for contact (23,24) is as following:\n",
      "larger: [24 23] 0.226682693\n",
      "larger: [23 24] 0.167807028\n",
      "create: [25 23] 0.100387529\n",
      "create: [24 20] 0.0990585238\n",
      "create: [30 21] 0.0856954753\n",
      "5 top list for contact (24,25) is as following:\n",
      "create: [24 26] 0.255138665\n",
      "larger: [25 24] 0.227624595\n",
      "larger: [24 25] 0.222007334\n",
      "create: [26 24] 0.139746249\n",
      "smaller: [26 27] -0.0665464774\n",
      "5 top list for contact (33,34) is as following:\n",
      "larger: [34 33] 0.227752402\n",
      "larger: [33 34] 0.163079903\n",
      "create: [35 33] 0.0707025155\n",
      "create: [34 32] 0.05125596\n",
      "create: [37 32] 0.049888961\n"
     ]
    }
   ],
   "source": [
    "import numpy\n",
    "inputs = tf.squeeze(test_img)\n",
    "k = 5\n",
    "zero = tf.constant(0, dtype=tf.float32)\n",
    "one = tf.constant(1, dtype=tf.float32)\n",
    "boolmax1 = tf.where(tf.equal(inputs, zero), one, zero)\n",
    "\n",
    "for index in [[13,14], [14,15], [22,23], [22,24], [23,24], [24,25], [33,34]]:\n",
    "    boolmax2 = tf.where(tf.less(j[index[0],index[1],:,:], zero), one, zero)\n",
    "    boolmax3 = tf.where(tf.equal(boolmax1*boolmax2, zero), one, zero) # Elementwise multiplication\n",
    "    boolmax = tf.linalg.set_diag(boolmax3, tf.zeros(boolmax3.shape[0:-1]))\n",
    "    x = tf.abs(j[index[0],index[1],:,:])*boolmax\n",
    "    x_shape = tf.shape(x)\n",
    "    top_values, top_indices = tf.nn.top_k(tf.reshape(x, (-1,)), k)\n",
    "    top_indices = tf.stack(((top_indices // x_shape[1]), (top_indices % x_shape[1])), -1)\n",
    "    p = tf.stop_gradient(top_indices[1])\n",
    "    print(\"5 top list for contact (\" + str(index[0]) + \",\" + str(index[1]) + \") is as following:\")\n",
    "    for i in range(len(top_values)):\n",
    "        if (j[index[0],index[1],top_indices[i][0],top_indices[i][1]] > 0) and (inputs[top_indices[i][0],top_indices[i][1]] == 0):\n",
    "            tf.print(\"create:\", top_indices[i], j[index[0],index[1],top_indices[i][0],top_indices[i][1]])\n",
    "        elif (inputs[top_indices[i][0],top_indices[i][1]] > 0) and (j[index[0],index[1],top_indices[i][0],top_indices[i][1]] > 0):\n",
    "            tf.print(\"larger:\", top_indices[i], j[index[0],index[1],top_indices[i][0],top_indices[i][1]])\n",
    "        elif (inputs[top_indices[i][0],top_indices[i][1]] > 0) and (j[index[0],index[1],top_indices[i][0],top_indices[i][1]] < 0):\n",
    "            tf.print(\"smaller:\", top_indices[i], j[index[0],index[1],top_indices[i][0],top_indices[i][1]])\n",
    "#         else:\n",
    "#             tf.print(\"no contact\")\n",
    "#             tf.print(top_indices[i], inputs[top_indices[i][0],top_indices[i][1]], j[index[0],index[1],top_indices[i][0],top_indices[i][1]])"
   ]
  },
  {
   "cell_type": "markdown",
   "metadata": {},
   "source": [
    "### only explore preexisted contact"
   ]
  },
  {
   "cell_type": "code",
   "execution_count": 26,
   "metadata": {},
   "outputs": [
    {
     "name": "stdout",
     "output_type": "stream",
     "text": [
      "5 top list for contact (13,14) is as following:\n",
      "[14 13] 0.332886845\n",
      "[13 14] 0.202233553\n",
      "[16 15] -0.0498510674\n",
      "[15 16] -0.0492489114\n",
      "[16 11] 0.0485536456\n",
      "5 top list for contact (14,15) is as following:\n",
      "[15 14] 0.239315361\n",
      "[14 15] 0.137255296\n",
      "[17 11] 0.0524184182\n",
      "[11 13] 0.0361643061\n",
      "[11 17] 0.0359531604\n",
      "5 top list for contact (22,23) is as following:\n",
      "[23 22] 0.173660189\n",
      "[22 23] 0.1504962\n",
      "[22 21] 0.0585644282\n",
      "[24 21] 0.0584140271\n",
      "[21 23] 0.0494571403\n",
      "5 top list for contact (22,24) is as following:\n",
      "[22 24] 0.562806547\n",
      "[24 22] 0.472083688\n",
      "[22 21] -0.14913623\n",
      "[22 23] 0.129903868\n",
      "[21 24] -0.12335594\n",
      "5 top list for contact (23,24) is as following:\n",
      "[24 23] 0.226682693\n",
      "[23 24] 0.167807028\n",
      "[23 22] -0.0655963123\n",
      "[22 24] -0.0587561056\n",
      "[24 21] 0.0571451969\n",
      "5 top list for contact (24,25) is as following:\n",
      "[25 24] 0.227624595\n",
      "[24 25] 0.222007334\n",
      "[26 27] -0.0665464774\n",
      "[27 30] -0.0494971611\n",
      "[20 26] 0.0383395515\n",
      "5 top list for contact (33,34) is as following:\n",
      "[34 33] 0.227752402\n",
      "[33 34] 0.163079903\n",
      "[32 31] -0.0346834362\n",
      "[35 37] 0.0303637087\n",
      "[31 32] -0.027182404\n"
     ]
    }
   ],
   "source": [
    "import numpy\n",
    "inputs = tf.squeeze(test_img)\n",
    "zero = tf.constant(0, dtype=tf.float32)\n",
    "one = tf.constant(1, dtype=tf.float32)\n",
    "boolmax = tf.where(tf.not_equal(inputs, zero), one, zero)\n",
    "k = 5\n",
    "for index in [[13,14], [14,15], [22,23], [22,24], [23,24], [24,25], [33,34]]:\n",
    "    x = tf.abs(j[index[0],index[1],:,:]) * boolmax\n",
    "    x_shape = tf.shape(x)\n",
    "    top_values, top_indices = tf.nn.top_k(tf.reshape(x, (-1,)), k)\n",
    "    top_indices = tf.stack(((top_indices // x_shape[1]), (top_indices % x_shape[1])), -1)\n",
    "    p = tf.stop_gradient(top_indices[1])\n",
    "    print(\"5 top list for contact (\" + str(index[0]) + \",\" + str(index[1]) + \") is as following:\")\n",
    "    for i in range(len(top_values)):\n",
    "        tf.print(top_indices[i], j[index[0],index[1],top_indices[i][0],top_indices[i][1]])"
   ]
  },
  {
   "cell_type": "markdown",
   "metadata": {},
   "source": [
    "## alpha + beta"
   ]
  },
  {
   "cell_type": "markdown",
   "metadata": {},
   "source": [
    "### new contact & changed preexisted contact"
   ]
  },
  {
   "cell_type": "code",
   "execution_count": 28,
   "metadata": {},
   "outputs": [
    {
     "name": "stdout",
     "output_type": "stream",
     "text": [
      "5 top list for contact (20,29) is as following:\n",
      "larger: [20 29] 0.199006438\n",
      "create: [19 28] 0.0604555085\n",
      "larger: [18 33] 0.0523506775\n",
      "create: [17 28] 0.047896713\n",
      "create: [13 24] 0.0449967161\n"
     ]
    }
   ],
   "source": [
    "import numpy\n",
    "inputs = tf.squeeze(test_img)\n",
    "k = 5\n",
    "zero = tf.constant(0, dtype=tf.float32)\n",
    "one = tf.constant(1, dtype=tf.float32)\n",
    "boolmax1 = tf.where(tf.equal(inputs, zero), one, zero)\n",
    "\n",
    "for index in [[20,29]]:\n",
    "    boolmax2 = tf.where(tf.less(j[index[0],index[1],:,:], zero), one, zero)\n",
    "    boolmax3 = tf.where(tf.equal(boolmax1*boolmax2, zero), one, zero) # Elementwise multiplication\n",
    "    boolmax = tf.linalg.set_diag(boolmax3, tf.zeros(boolmax3.shape[0:-1]))\n",
    "    x = tf.abs(j[index[0],index[1],:,:])*boolmax\n",
    "    x_shape = tf.shape(x)\n",
    "    top_values, top_indices = tf.nn.top_k(tf.reshape(x, (-1,)), k)\n",
    "    top_indices = tf.stack(((top_indices // x_shape[1]), (top_indices % x_shape[1])), -1)\n",
    "    p = tf.stop_gradient(top_indices[1])\n",
    "    print(\"5 top list for contact (\" + str(index[0]) + \",\" + str(index[1]) + \") is as following:\")\n",
    "    for i in range(len(top_values)):\n",
    "        if (j[index[0],index[1],top_indices[i][0],top_indices[i][1]] > 0) and (inputs[top_indices[i][0],top_indices[i][1]] == 0):\n",
    "            tf.print(\"create:\", top_indices[i], j[index[0],index[1],top_indices[i][0],top_indices[i][1]])\n",
    "        elif (inputs[top_indices[i][0],top_indices[i][1]] > 0) and (j[index[0],index[1],top_indices[i][0],top_indices[i][1]] > 0):\n",
    "            tf.print(\"larger:\", top_indices[i], j[index[0],index[1],top_indices[i][0],top_indices[i][1]])\n",
    "        elif (inputs[top_indices[i][0],top_indices[i][1]] > 0) and (j[index[0],index[1],top_indices[i][0],top_indices[i][1]] < 0):\n",
    "            tf.print(\"smaller:\", top_indices[i], j[index[0],index[1],top_indices[i][0],top_indices[i][1]])\n",
    "#         else:\n",
    "#             tf.print(\"no contact\")\n",
    "#             tf.print(top_indices[i], inputs[top_indices[i][0],top_indices[i][1]], j[index[0],index[1],top_indices[i][0],top_indices[i][1]])"
   ]
  },
  {
   "cell_type": "markdown",
   "metadata": {},
   "source": [
    "### only explore preexisted contact"
   ]
  },
  {
   "cell_type": "code",
   "execution_count": 29,
   "metadata": {},
   "outputs": [
    {
     "name": "stdout",
     "output_type": "stream",
     "text": [
      "0.199006438\n",
      "[20 29]\n",
      "0.0523506775\n",
      "[18 33]\n",
      "-0.0140471244\n",
      "[20 26]\n",
      "0.0140309073\n",
      "[24 25]\n",
      "0.0124765132\n",
      "[25 24]\n"
     ]
    }
   ],
   "source": [
    "inputs = tf.squeeze(test_img)\n",
    "zero = tf.constant(0, dtype=tf.float32)\n",
    "one = tf.constant(1, dtype=tf.float32)\n",
    "boolmax = tf.where(tf.not_equal(inputs, zero), one, zero)\n",
    "x = tf.abs(j[20,29,:,:]) * boolmax\n",
    "x_shape = tf.shape(x)\n",
    "k = 5\n",
    "top_values, top_indices = tf.nn.top_k(tf.reshape(x, (-1,)), k)\n",
    "top_indices = tf.stack(((top_indices // x_shape[1]), (top_indices % x_shape[1])), -1)\n",
    "p = tf.stop_gradient(top_indices[1])\n",
    "for i in range(len(top_values)):\n",
    "    tf.print(j[20,29,top_indices[i][0],top_indices[i][1]])\n",
    "    tf.print(top_indices[i])"
   ]
  },
  {
   "cell_type": "code",
   "execution_count": 30,
   "metadata": {},
   "outputs": [],
   "source": [
    "# for i in range(63):\n",
    "#     tf.print(inputs[i, i+1])\n",
    "## 2KDD_1_A contains 57 residues and padding is 7. It shows padding is 3 + 4. \n",
    "## So res_id = matrix_id - 2(counting from 1)"
   ]
  },
  {
   "cell_type": "code",
   "execution_count": null,
   "metadata": {},
   "outputs": [],
   "source": []
  }
 ],
 "metadata": {
  "kernelspec": {
   "display_name": "Python 3",
   "language": "python",
   "name": "python3"
  },
  "language_info": {
   "codemirror_mode": {
    "name": "ipython",
    "version": 3
   },
   "file_extension": ".py",
   "mimetype": "text/x-python",
   "name": "python",
   "nbconvert_exporter": "python",
   "pygments_lexer": "ipython3",
   "version": "3.6.4"
  }
 },
 "nbformat": 4,
 "nbformat_minor": 4
}
