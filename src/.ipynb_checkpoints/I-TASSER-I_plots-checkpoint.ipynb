{
 "cells": [
  {
   "cell_type": "code",
   "execution_count": 1,
   "metadata": {},
   "outputs": [],
   "source": [
    "import tensorflow as tf\n",
    "#import tensorflow_addons as tfa\n",
    "\n",
    "import os\n",
    "import time\n",
    "import numpy as np\n",
    "import glob\n",
    "import matplotlib.pyplot as plt\n",
    "import PIL\n",
    "import config as conf\n",
    "import imageio\n",
    "\n",
    "from IPython import display  \n",
    "\n",
    "import pandas as pd\n",
    "import seaborn as sns\n",
    "from matplotlib import pyplot as plt\n",
    "from scipy import stats\n",
    "import pickle\n",
    "\n",
    "import AE_model as pcvae"
   ]
  },
  {
   "cell_type": "code",
   "execution_count": 2,
   "metadata": {},
   "outputs": [
    {
     "data": {
      "text/html": [
       "        <script type=\"text/javascript\">\n",
       "        window.PlotlyConfig = {MathJaxConfig: 'local'};\n",
       "        if (window.MathJax) {MathJax.Hub.Config({SVG: {font: \"STIX-Web\"}});}\n",
       "        if (typeof require !== 'undefined') {\n",
       "        require.undef(\"plotly\");\n",
       "        requirejs.config({\n",
       "            paths: {\n",
       "                'plotly': ['https://cdn.plot.ly/plotly-latest.min']\n",
       "            }\n",
       "        });\n",
       "        require(['plotly'], function(Plotly) {\n",
       "            window._Plotly = Plotly;\n",
       "        });\n",
       "        }\n",
       "        </script>\n",
       "        "
      ]
     },
     "metadata": {},
     "output_type": "display_data"
    }
   ],
   "source": [
    "from plotly.offline import iplot, init_notebook_mode\n",
    "init_notebook_mode(connected = True)\n",
    "\n",
    "import plotly.express as px\n",
    "from sklearn.decomposition import PCA\n",
    "from sklearn import datasets\n",
    "from sklearn.preprocessing import StandardScaler\n",
    "from sklearn.cluster import KMeans\n",
    "\n",
    "import plotly.graph_objects as go"
   ]
  },
  {
   "cell_type": "code",
   "execution_count": 3,
   "metadata": {},
   "outputs": [
    {
     "name": "stdout",
     "output_type": "stream",
     "text": [
      "2.2.0\n"
     ]
    }
   ],
   "source": [
    "print(tf.__version__)"
   ]
  },
  {
   "cell_type": "markdown",
   "metadata": {},
   "source": [
    "# Binary no diag AE"
   ]
  },
  {
   "cell_type": "code",
   "execution_count": 4,
   "metadata": {},
   "outputs": [],
   "source": [
    "parent_dir = '/cavern/bihuayu/protein_DP/AE_symmetry/nodiag/binary/'"
   ]
  },
  {
   "cell_type": "code",
   "execution_count": 5,
   "metadata": {},
   "outputs": [],
   "source": [
    "def normalization(x):\n",
    "    sz = tf.size(x['contact'])\n",
    "    edge = tf.math.sqrt(tf.cast(sz, tf.float32))\n",
    "    edge = tf.cast(edge, tf.int32)\n",
    "    \n",
    "    contact_img = x['contact']\n",
    "    \n",
    "    diag = tf.linalg.diag_part(x['contact'])\n",
    "    x['diag'] = tf.linalg.diag(diag)\n",
    "    x['contact'] = x['contact'] - x['diag']\n",
    "    \n",
    "    zero = tf.constant(0, dtype=tf.float32)\n",
    "    one = tf.constant(1, dtype=tf.float32)\n",
    "    img = tf.where(tf.not_equal(x[\"contact\"], zero), one, zero)\n",
    "    \n",
    "    img_norm = tf.expand_dims(img, -1)\n",
    "    \n",
    "    if edge > 600:\n",
    "        img_norm = tf.image.resize_with_crop_or_pad(img_norm, 600, 600)\n",
    "    elif edge < 8:\n",
    "        img_norm = tf.image.resize_with_crop_or_pad(img_norm, 8, 8)\n",
    "    elif edge % 8 != 0:\n",
    "        mod = 8 - edge % 8\n",
    "        img_norm = tf.image.resize_with_crop_or_pad(img_norm, edge+mod, edge+mod)\n",
    "        \n",
    "    x['contact'] = img_norm\n",
    "    x['diag'] = img_norm\n",
    "        \n",
    "    return x"
   ]
  },
  {
   "cell_type": "code",
   "execution_count": 6,
   "metadata": {},
   "outputs": [],
   "source": [
    "TRAIN_BUF = 60000\n",
    "BATCH_SIZE = 1\n",
    "TEST_BUF = 10000\n",
    "\n",
    "import contact_map as cp\n",
    "data = cp.contact_map()\n",
    "\n",
    "train_norm = data.train.map(normalization)\n",
    "val_varseq_norm = data.val_varseq.map(normalization)\n",
    "robot_norm = data.robot.map(normalization)\n",
    "it1_norm = data.it1.map(normalization)\n",
    "it1af7_norm = data.it1af7.map(normalization)\n",
    "\n",
    "train_set = train_norm.shuffle(TRAIN_BUF).batch(BATCH_SIZE)\n",
    "val_varseq_set = val_varseq_norm.batch(BATCH_SIZE)\n",
    "it1 = it1_norm.batch(BATCH_SIZE)\n",
    "it1af7 = it1af7_norm.batch(BATCH_SIZE)"
   ]
  },
  {
   "cell_type": "code",
   "execution_count": 7,
   "metadata": {},
   "outputs": [
    {
     "data": {
      "image/png": "[encoded data removed]",
      "text/plain": [
       "<Figure size 432x288 with 1 Axes>"
      ]
     },
     "metadata": {
      "needs_background": "light"
     },
     "output_type": "display_data"
    }
   ],
   "source": [
    "for x in val_varseq_set:\n",
    "    plt.imshow(x['contact'][0,:,:,0])\n",
    "    break"
   ]
  },
  {
   "cell_type": "code",
   "execution_count": 8,
   "metadata": {},
   "outputs": [
    {
     "data": {
      "text/plain": [
       "<matplotlib.legend.Legend at 0x2aad2684d970>"
      ]
     },
     "execution_count": 8,
     "metadata": {},
     "output_type": "execute_result"
    },
    {
     "data": {
      "image/png": "[encoded data removed]",
      "text/plain": [
       "<Figure size 288x288 with 1 Axes>"
      ]
     },
     "metadata": {
      "needs_background": "light"
     },
     "output_type": "display_data"
    }
   ],
   "source": [
    "with open(parent_dir + \"train_loss.pkl\", 'rb') as f:\n",
    "    t = pickle.load(f)\n",
    "    \n",
    "with open(parent_dir + \"val_loss.pkl\", 'rb') as f:\n",
    "    v = pickle.load(f)\n",
    "\n",
    "fig = plt.figure(figsize=(4,4))\n",
    "epochs = len(v)\n",
    "x = np.linspace(0, epochs, num=epochs)\n",
    "\n",
    "\n",
    "plt.plot(x, t)\n",
    "plt.plot(x, v)\n",
    "plt.legend(('train_loss', 'val_loss'),\n",
    "           loc='upper right')"
   ]
  },
  {
   "cell_type": "code",
   "execution_count": 9,
   "metadata": {},
   "outputs": [
    {
     "name": "stdout",
     "output_type": "stream",
     "text": [
      "CONTACT_MAP_log_norm\n"
     ]
    },
    {
     "data": {
      "text/plain": [
       "<tensorflow.python.training.tracking.util.CheckpointLoadStatus at 0x2aad26915610>"
      ]
     },
     "execution_count": 9,
     "metadata": {},
     "output_type": "execute_result"
    }
   ],
   "source": [
    "model = pcvae.CVAE(latent_dim = 50, mnist = False, units_list=[64,128,128])\n",
    "model.compile(optimizer = model.optimizer, loss = model.compute_loss, metrics = [\"accuracy\"])\n",
    "model.load_weights(parent_dir + 'cp-0050.ckpt')"
   ]
  },
  {
   "cell_type": "markdown",
   "metadata": {},
   "source": [
    "## I-TASSER-I tests"
   ]
  },
  {
   "cell_type": "code",
   "execution_count": 10,
   "metadata": {},
   "outputs": [],
   "source": [
    "# loss_group=[]\n",
    "# name = []\n",
    "# label = []\n",
    "# group = []\n",
    "# for test_x in it1:\n",
    "#     score = []\n",
    "#     name = tf.concat([name, test_x['name']], 0)\n",
    "#     group = tf.concat([group, tf.strings.substr(test_x[\"name\"], 0, 5, unit=\"UTF8_CHAR\")], 0)\n",
    "#     score = model.compute_loss(test_x[\"contact\"], False, True)\n",
    "#     loss_group = tf.concat([loss_group, score], 0)"
   ]
  },
  {
   "cell_type": "code",
   "execution_count": 11,
   "metadata": {},
   "outputs": [],
   "source": [
    "# test_x['name']"
   ]
  },
  {
   "cell_type": "code",
   "execution_count": 12,
   "metadata": {},
   "outputs": [],
   "source": [
    "# test_loss_group = np.array(loss_group)\n",
    "# d = test_loss_group.T\n",
    "# df_all = pd.DataFrame(data=d)\n",
    "# df_name = pd.DataFrame()\n",
    "# df_name['name'] = name\n",
    "# tmp_name = df_name['name'].str.decode(\"utf-8\")\n",
    "# df = pd.DataFrame()\n",
    "# df['name'] = tmp_name\n",
    "# df['loss'] = df_all\n",
    "# df['target'] = group.numpy().tolist()\n",
    "# df['target'] = df['target'].str.decode(\"utf-8\")\n",
    "# f = open(parent_dir + 'I-TASSER-I.pickle', 'bw+')\n",
    "# pickle.dump(df, f)\n",
    "# f.close()\n",
    "# df"
   ]
  },
  {
   "cell_type": "code",
   "execution_count": 13,
   "metadata": {},
   "outputs": [],
   "source": [
    "with open(parent_dir + 'I-TASSER-I.pickle', 'br') as f:\n",
    "    df = pickle.load(f)"
   ]
  },
  {
   "cell_type": "code",
   "execution_count": 16,
   "metadata": {},
   "outputs": [
    {
     "data": {
      "text/plain": [
       "56"
      ]
     },
     "execution_count": 16,
     "metadata": {},
     "output_type": "execute_result"
    }
   ],
   "source": [
    "len(df[df['name'].str.contains('native')].index)"
   ]
  },
  {
   "cell_type": "code",
   "execution_count": 22,
   "metadata": {},
   "outputs": [
    {
     "name": "stdout",
     "output_type": "stream",
     "text": [
      "1\t1abv_\t8612\t12501\t0.6889048876089913\n",
      "2\t1af7_\t7\t12500\t0.00056\n",
      "3\t1ah9_\t25084\t27499\t0.912178624677261\n",
      "4\t1aoy_\t1701\t32001\t0.05315458891909628\n",
      "5\t1b4bA\t4\t12501\t0.00031997440204783615\n",
      "6\t1b72A\t36\t12501\t0.0028797696184305254\n",
      "7\t1bm8_\t95\t20001\t0.004749762511874406\n",
      "8\t1bq9A\t6\t20001\t0.0002999850007499625\n",
      "9\t1cewI\t1\t19831\t5.04261005496445e-05\n",
      "10\t1cqkA\t0\t20000\t0.0\n",
      "11\t1csp_\t76\t12501\t0.0060795136389088875\n",
      "12\t1cy5A\t0\t32001\t0.0\n",
      "13\t1dcjA\t18684\t20001\t0.9341532923353832\n",
      "14\t1di2A\t96\t20001\t0.0047997600119994\n",
      "15\t1dtjA\t5256\t20001\t0.26278686065696716\n",
      "16\t1egxA\t19983\t20001\t0.9991000449977501\n",
      "17\t1fadA\t11066\t12501\t0.8852091832653388\n",
      "18\t1fo5A\t3736\t20001\t0.18679066046697665\n",
      "19\t1g1cA\t2127\t19998\t0.10636063606360636\n",
      "20\t1gjxA\t12418\t12501\t0.9933605311575074\n",
      "21\t1gnuA\t5\t17534\t0.00028516026006615715\n",
      "22\t1gpt_\t4380\t32001\t0.1368707227899128\n",
      "23\t1gyvA\t0\t11509\t0.0\n",
      "24\t1hbkA\t767\t20001\t0.038348082595870206\n",
      "25\t1itpA\t8112\t12501\t0.6489080873530118\n",
      "26\t1jnuA\t37\t20001\t0.0018499075046247689\n",
      "27\t1kjs_\t19852\t20001\t0.9925503724813759\n",
      "28\t1kviA\t5091\t20001\t0.25453727313634317\n",
      "29\t1mkyA\t17\t12501\t0.0013598912087033038\n",
      "30\t1mla_\t132\t12501\t0.010559155267578594\n",
      "31\t1mn8A\t0\t12501\t0.0\n",
      "32\t1n0uA\t2354\t12500\t0.18832\n",
      "33\t1ne3A\t8813\t12501\t0.7049836013118951\n",
      "34\t1no5A\t1073\t12501\t0.08583313334933206\n",
      "35\t1npsA\t214\t20001\t0.010699465026748662\n",
      "36\t1o2fB\t558\t12501\t0.04463642908567315\n",
      "37\t1of9A\t8637\t20001\t0.431828408579571\n",
      "38\t1ogwA\t1468\t19999\t0.07340367018350917\n",
      "39\t1orgA\t0\t20001\t0.0\n",
      "40\t1pgx_\t666\t20001\t0.03329833508324584\n",
      "41\t1r69_\t6220\t20001\t0.3109844507774611\n",
      "42\t1sfp_\t3485\t19986\t0.17437206044230963\n",
      "43\t1shfA\t3151\t20001\t0.1575421228938553\n",
      "44\t1sro_\t13897\t20001\t0.6948152592370381\n",
      "45\t1ten_\t576\t20001\t0.0287985600719964\n",
      "46\t1tfi_\t30769\t32001\t0.9615012030874035\n",
      "47\t1thx_\t192\t32001\t0.0059998125058591915\n",
      "48\t1tif_\t247\t12501\t0.019758419326453884\n",
      "49\t1tig_\t8086\t12501\t0.6468282537397009\n",
      "50\t1vcc_\t822\t20001\t0.041097945102744865\n",
      "51\t256bA\t99\t20001\t0.004949752512374382\n",
      "52\t2a0b_\t0\t32001\t0.0\n",
      "53\t2cr7A\t75\t12501\t0.005999520038396928\n",
      "54\t2f3nA\t1\t20000\t5e-05\n",
      "55\t2pcy_\t1883\t20001\t0.09414529273536323\n",
      "56\t2reb_\t7200\t12501\t0.5759539236861051\n"
     ]
    }
   ],
   "source": [
    "for i, t in enumerate(['1abv_', '1af7_', '1ah9_', '1aoy_', '1b4bA', '1b72A', '1bm8_', '1bq9A', '1cewI',\n",
    "                       '1cqkA', '1csp_', '1cy5A', '1dcjA', '1di2A', '1dtjA', '1egxA', '1fadA', '1fo5A',\n",
    "                       '1g1cA', '1gjxA', '1gnuA', '1gpt_', '1gyvA', '1hbkA', '1itpA', '1jnuA', '1kjs_', \n",
    "                       '1kviA', '1mkyA', '1mla_', '1mn8A', '1n0uA', '1ne3A', '1no5A', '1npsA', '1o2fB', \n",
    "                       '1of9A', '1ogwA', '1orgA', '1pgx_', '1r69_', '1sfp_', '1shfA', '1sro_', '1ten_',\n",
    "                       '1tfi_', '1thx_', '1tif_', '1tig_', '1vcc_', '256bA', '2a0b_', '2cr7A', '2f3nA',\n",
    "                       '2pcy_', '2reb_']):\n",
    "    df_sub = df[df['target'] == t]\n",
    "    n_loss = df_sub[df_sub['name'].str.contains('native')]['loss'].values[0]\n",
    "    decoy = df_sub[df_sub['loss']<n_loss]['loss'].count()\n",
    "    total = df_sub['loss'].count()\n",
    "    print(i+1, t, decoy, total, decoy/total, sep='\\t')\n"
   ]
  },
  {
   "cell_type": "markdown",
   "metadata": {},
   "source": [
    "# Real Value no diag AE"
   ]
  },
  {
   "cell_type": "code",
   "execution_count": 4,
   "metadata": {},
   "outputs": [],
   "source": [
    "parent_dir = '/cavern/bihuayu/protein_DP/AE_symmetry/nodiag/realVal/'"
   ]
  },
  {
   "cell_type": "code",
   "execution_count": 5,
   "metadata": {},
   "outputs": [],
   "source": [
    "def normalization(x):\n",
    "    sz = tf.size(x['contact'])\n",
    "    edge = tf.math.sqrt(tf.cast(sz, tf.float32))\n",
    "    edge = tf.cast(edge, tf.int32)\n",
    "    \n",
    "    contact_img = x['contact']\n",
    "    \n",
    "    diag = tf.linalg.diag_part(x['contact'],k=(-1,1))\n",
    "    x['diag'] = tf.linalg.diag(diag,k=(-1,1))\n",
    "    x['contact'] = x['contact'] - x['diag']\n",
    "    \n",
    "    diag = tf.linalg.diag_part(contact_img, k = -1)\n",
    "    diag2 = tf.linalg.diag(diag, k = -1)\n",
    "    diag = tf.linalg.diag_part(contact_img, k = 1)\n",
    "    diag3 = tf.linalg.diag(diag, k = 1)\n",
    "    \n",
    "    img = x['contact'] + 0.2 * (diag2 + diag3)\n",
    "    \n",
    "    img_norm = tf.expand_dims(img, -1)\n",
    "    \n",
    "    if edge > 600:\n",
    "        img_norm = tf.image.resize_with_crop_or_pad(img_norm, 600, 600)\n",
    "    elif edge < 8:\n",
    "        img_norm = tf.image.resize_with_crop_or_pad(img_norm, 8, 8)\n",
    "    elif edge % 8 != 0:\n",
    "        mod = 8 - edge % 8\n",
    "        img_norm = tf.image.resize_with_crop_or_pad(img_norm, edge+mod, edge+mod)\n",
    "        \n",
    "    x['contact'] = img_norm\n",
    "    x['diag'] = img_norm\n",
    "        \n",
    "    return x"
   ]
  },
  {
   "cell_type": "code",
   "execution_count": 6,
   "metadata": {},
   "outputs": [],
   "source": [
    "TRAIN_BUF = 60000\n",
    "BATCH_SIZE = 1\n",
    "TEST_BUF = 10000\n",
    "\n",
    "import contact_map as cp\n",
    "data = cp.contact_map()\n",
    "\n",
    "train_norm = data.train.map(normalization)\n",
    "val_varseq_norm = data.val_varseq.map(normalization)\n",
    "robot_norm = data.robot.map(normalization)\n",
    "it1_norm = data.it1.map(normalization)\n",
    "\n",
    "train_set = train_norm.shuffle(TRAIN_BUF).batch(BATCH_SIZE)\n",
    "val_varseq_set = val_varseq_norm.batch(BATCH_SIZE)\n",
    "it1 = it1_norm.batch(BATCH_SIZE)"
   ]
  },
  {
   "cell_type": "code",
   "execution_count": 7,
   "metadata": {},
   "outputs": [],
   "source": [
    "# for x in val_varseq_set:\n",
    "#     plt.imshow(x['contact'][0,:,:,0])\n",
    "#     break"
   ]
  },
  {
   "cell_type": "code",
   "execution_count": 8,
   "metadata": {},
   "outputs": [],
   "source": [
    "# with open(parent_dir + \"train_loss.pkl\", 'rb') as f:\n",
    "#     t = pickle.load(f)\n",
    "    \n",
    "# with open(parent_dir + \"val_loss.pkl\", 'rb') as f:\n",
    "#     v = pickle.load(f)\n",
    "\n",
    "# fig = plt.figure(figsize=(4,4))\n",
    "# epochs = len(v)\n",
    "# x = np.linspace(0, epochs, num=epochs)\n",
    "\n",
    "\n",
    "# plt.plot(x, t)\n",
    "# plt.plot(x, v)\n",
    "# plt.legend(('train_loss', 'val_loss'),\n",
    "#            loc='upper right')"
   ]
  },
  {
   "cell_type": "code",
   "execution_count": 9,
   "metadata": {},
   "outputs": [
    {
     "name": "stdout",
     "output_type": "stream",
     "text": [
      "CONTACT_MAP_log_norm\n"
     ]
    },
    {
     "data": {
      "text/plain": [
       "<tensorflow.python.training.tracking.util.CheckpointLoadStatus at 0x2aacc7f5afa0>"
      ]
     },
     "execution_count": 9,
     "metadata": {},
     "output_type": "execute_result"
    }
   ],
   "source": [
    "model = pcvae.CVAE(latent_dim = 50, mnist = False, units_list=[64,128,128])\n",
    "model.compile(optimizer = model.optimizer, loss = model.compute_loss, metrics = [\"accuracy\"])\n",
    "model.load_weights(parent_dir + 'cp-0010.ckpt')"
   ]
  },
  {
   "cell_type": "markdown",
   "metadata": {},
   "source": [
    "## I-TASSER tests"
   ]
  },
  {
   "cell_type": "code",
   "execution_count": null,
   "metadata": {},
   "outputs": [],
   "source": [
    "# loss_group=[]\n",
    "# name = []\n",
    "# label = []\n",
    "# group = []\n",
    "# for test_x in it1:\n",
    "#     score = []\n",
    "#     name = tf.concat([name, test_x['name']], 0)\n",
    "#     group = tf.concat([group, tf.strings.substr(test_x[\"name\"], 0, 5, unit=\"UTF8_CHAR\")], 0)\n",
    "#     score = model.compute_loss(test_x[\"contact\"], False, False)\n",
    "#     loss_group = tf.concat([loss_group, score], 0)"
   ]
  },
  {
   "cell_type": "code",
   "execution_count": null,
   "metadata": {},
   "outputs": [],
   "source": [
    "# test_loss_group = np.array(loss_group)\n",
    "# d = test_loss_group.T\n",
    "# df_all = pd.DataFrame(data=d)\n",
    "# df_name = pd.DataFrame()\n",
    "# df_name['name'] = name\n",
    "# tmp_name = df_name['name'].str.decode(\"utf-8\")\n",
    "# df = pd.DataFrame()\n",
    "# df['name'] = tmp_name\n",
    "# df['loss'] = df_all\n",
    "# df['target'] = group.numpy().tolist()\n",
    "# df['target'] = df['target'].str.decode(\"utf-8\")\n",
    "# f = open(parent_dir + 'I-TASSER-I.pickle', 'bw+')\n",
    "# pickle.dump(df, f)\n",
    "# f.close()\n",
    "# # df"
   ]
  },
  {
   "cell_type": "code",
   "execution_count": 10,
   "metadata": {},
   "outputs": [],
   "source": [
    "with open(parent_dir + 'I-TASSER-I.pickle', 'br') as f:\n",
    "    df = pickle.load(f)"
   ]
  },
  {
   "cell_type": "code",
   "execution_count": 14,
   "metadata": {},
   "outputs": [
    {
     "name": "stdout",
     "output_type": "stream",
     "text": [
      "56\n"
     ]
    }
   ],
   "source": [
    "print(len(df[df['name'].str.contains('native')].index))"
   ]
  },
  {
   "cell_type": "code",
   "execution_count": 12,
   "metadata": {},
   "outputs": [
    {
     "name": "stdout",
     "output_type": "stream",
     "text": [
      "1\t1abv_\t1\t12501\t7.999360051195904e-05\n",
      "2\t1af7_\t0\t12500\t0.0\n",
      "3\t1ah9_\t7\t27499\t0.00025455471108040294\n",
      "4\t1aoy_\t0\t32001\t0.0\n",
      "5\t1b4bA\t0\t12501\t0.0\n",
      "6\t1b72A\t0\t12501\t0.0\n",
      "7\t1bm8_\t0\t20001\t0.0\n",
      "8\t1bq9A\t0\t20001\t0.0\n",
      "9\t1cewI\t0\t19831\t0.0\n",
      "10\t1cqkA\t0\t20000\t0.0\n",
      "11\t1csp_\t0\t12501\t0.0\n",
      "12\t1cy5A\t0\t32001\t0.0\n",
      "13\t1dcjA\t14439\t20001\t0.7219139043047847\n",
      "14\t1di2A\t0\t20001\t0.0\n",
      "15\t1dtjA\t0\t20001\t0.0\n",
      "16\t1egxA\t35\t20001\t0.0017499125043747813\n",
      "17\t1fadA\t2\t12501\t0.00015998720102391808\n",
      "18\t1fo5A\t0\t20001\t0.0\n",
      "19\t1g1cA\t0\t19998\t0.0\n",
      "20\t1gjxA\t5618\t12501\t0.4494040476761859\n",
      "21\t1gnuA\t0\t17534\t0.0\n",
      "22\t1gpt_\t13\t32001\t0.00040623730508421613\n",
      "23\t1gyvA\t0\t11509\t0.0\n",
      "24\t1hbkA\t0\t20001\t0.0\n",
      "25\t1itpA\t39\t12501\t0.0031197504199664025\n",
      "26\t1jnuA\t0\t20001\t0.0\n",
      "27\t1kjs_\t13308\t20001\t0.6653667316634169\n",
      "28\t1kviA\t26\t20001\t0.0012999350032498376\n",
      "29\t1mkyA\t0\t12501\t0.0\n",
      "30\t1mla_\t0\t12501\t0.0\n",
      "31\t1mn8A\t0\t12501\t0.0\n",
      "32\t1n0uA\t0\t12500\t0.0\n",
      "33\t1ne3A\t2228\t12501\t0.17822574194064475\n",
      "34\t1no5A\t0\t12501\t0.0\n",
      "35\t1npsA\t0\t20001\t0.0\n",
      "36\t1o2fB\t0\t12501\t0.0\n",
      "37\t1of9A\t6\t20001\t0.0002999850007499625\n",
      "38\t1ogwA\t0\t19999\t0.0\n",
      "39\t1orgA\t0\t20001\t0.0\n",
      "40\t1pgx_\t0\t20001\t0.0\n",
      "41\t1r69_\t0\t20001\t0.0\n",
      "42\t1sfp_\t0\t19986\t0.0\n",
      "43\t1shfA\t0\t20001\t0.0\n",
      "44\t1sro_\t12041\t20001\t0.6020198990050497\n",
      "45\t1ten_\t0\t20001\t0.0\n",
      "46\t1tfi_\t662\t32001\t0.020686853535827006\n",
      "47\t1thx_\t0\t32001\t0.0\n",
      "48\t1tif_\t0\t12501\t0.0\n",
      "49\t1tig_\t0\t12501\t0.0\n",
      "50\t1vcc_\t0\t20001\t0.0\n",
      "51\t256bA\t0\t20001\t0.0\n",
      "52\t2a0b_\t0\t32001\t0.0\n",
      "53\t2cr7A\t0\t12501\t0.0\n",
      "54\t2f3nA\t0\t20000\t0.0\n",
      "55\t2pcy_\t0\t20001\t0.0\n",
      "56\t2reb_\t0\t12501\t0.0\n"
     ]
    }
   ],
   "source": [
    "for i, t in enumerate(['1abv_', '1af7_', '1ah9_', '1aoy_', '1b4bA', '1b72A', '1bm8_', '1bq9A', '1cewI',\n",
    "                       '1cqkA', '1csp_', '1cy5A', '1dcjA', '1di2A', '1dtjA', '1egxA', '1fadA', '1fo5A',\n",
    "                       '1g1cA', '1gjxA', '1gnuA', '1gpt_', '1gyvA', '1hbkA', '1itpA', '1jnuA', '1kjs_', \n",
    "                       '1kviA', '1mkyA', '1mla_', '1mn8A', '1n0uA', '1ne3A', '1no5A', '1npsA', '1o2fB', \n",
    "                       '1of9A', '1ogwA', '1orgA', '1pgx_', '1r69_', '1sfp_', '1shfA', '1sro_', '1ten_',\n",
    "                       '1tfi_', '1thx_', '1tif_', '1tig_', '1vcc_', '256bA', '2a0b_', '2cr7A', '2f3nA',\n",
    "                       '2pcy_', '2reb_']):\n",
    "    df_sub = df[df['target'] == t]\n",
    "    n_loss = df_sub[df_sub['name'].str.contains('native')]['loss'].values[0]\n",
    "    decoy = df_sub[df_sub['loss']<n_loss]['loss'].count()\n",
    "    total = df_sub['loss'].count()\n",
    "    print(i+1, t, decoy, total, decoy/total, sep='\\t')"
   ]
  },
  {
   "cell_type": "code",
   "execution_count": null,
   "metadata": {},
   "outputs": [],
   "source": []
  }
 ],
 "metadata": {
  "kernelspec": {
   "display_name": "Python 3",
   "language": "python",
   "name": "python3"
  },
  "language_info": {
   "codemirror_mode": {
    "name": "ipython",
    "version": 3
   },
   "file_extension": ".py",
   "mimetype": "text/x-python",
   "name": "python",
   "nbconvert_exporter": "python",
   "pygments_lexer": "ipython3",
   "version": "3.6.4"
  }
 },
 "nbformat": 4,
 "nbformat_minor": 4
}
