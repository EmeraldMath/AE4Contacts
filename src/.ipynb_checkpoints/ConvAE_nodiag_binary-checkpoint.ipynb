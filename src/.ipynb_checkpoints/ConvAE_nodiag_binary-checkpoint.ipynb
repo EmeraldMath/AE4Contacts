{
 "cells": [
  {
   "cell_type": "code",
   "execution_count": 1,
   "metadata": {},
   "outputs": [],
   "source": [
    "import tensorflow as tf\n",
    "\n",
    "import os\n",
    "import time\n",
    "import numpy as np\n",
    "import matplotlib.pyplot as plt\n",
    "import PIL\n",
    "import config as conf\n",
    "import imageio"
   ]
  },
  {
   "cell_type": "code",
   "execution_count": 2,
   "metadata": {},
   "outputs": [],
   "source": [
    "#import ConvVAE_model as cvae\n",
    "import v2_logpx_z_ConvVAE_model as pcvae"
   ]
  },
  {
   "cell_type": "code",
   "execution_count": 3,
   "metadata": {},
   "outputs": [],
   "source": [
    "parent_dir = '/cavern/bihuayu/protein_DP/AE/nodiag_binary'"
   ]
  },
  {
   "cell_type": "code",
   "execution_count": 6,
   "metadata": {},
   "outputs": [],
   "source": [
    "def normalization(x):\n",
    "    sz = tf.size(x['contact'])\n",
    "    edge = tf.math.sqrt(tf.cast(sz, tf.float32))\n",
    "    edge = tf.cast(edge, tf.int32)\n",
    "    \n",
    "    contact_img = x['contact']\n",
    "    \n",
    "    diag = tf.linalg.diag_part(x['contact'],k=(-1,1))\n",
    "    x['diag'] = tf.linalg.diag(diag,k=(-1,1))\n",
    "    x['contact'] = x['contact'] - x['diag']\n",
    "    \n",
    "    zero = tf.constant(0, dtype=tf.float32)\n",
    "    one = tf.constant(1, dtype=tf.float32)\n",
    "    img = tf.where(tf.not_equal(x[\"contact\"], zero), one, zero)\n",
    "    \n",
    "    img_norm = tf.expand_dims(img, -1)\n",
    "    \n",
    "    if edge > 600:\n",
    "        img_norm = tf.image.resize_with_crop_or_pad(img_norm, 600, 600)\n",
    "    elif edge < 8:\n",
    "        img_norm = tf.image.resize_with_crop_or_pad(img_norm, 8, 8)\n",
    "    elif edge % 8 != 0:\n",
    "        mod = 8 - edge % 8\n",
    "        img_norm = tf.image.resize_with_crop_or_pad(img_norm, edge+mod, edge+mod)\n",
    "        \n",
    "    x['contact'] = img_norm\n",
    "    x['diag'] = img_norm\n",
    "        \n",
    "    return x"
   ]
  },
  {
   "cell_type": "code",
   "execution_count": 7,
   "metadata": {},
   "outputs": [],
   "source": [
    "TRAIN_BUF = 6000\n",
    "BATCH_SIZE = 1\n",
    "TEST_BUF = 1000\n",
    "\n",
    "import contact_map as cp\n",
    "data = cp.contact_map()\n",
    "\n",
    "train_norm = data.train.map(normalization)\n",
    "val_varseq_norm = data.val_varseq.map(normalization)\n",
    "val_decoy_norm = data.val_decoy.map(normalization)\n",
    "\n",
    "train_set = train_norm.shuffle(TRAIN_BUF).batch(BATCH_SIZE)\n",
    "val_varseq_set = val_varseq_norm.batch(1)\n",
    "val_decoy_set = val_decoy_norm.shuffle(TRAIN_BUF).batch(BATCH_SIZE)"
   ]
  },
  {
   "cell_type": "code",
   "execution_count": 8,
   "metadata": {},
   "outputs": [
    {
     "data": {
      "image/png": "[encoded data removed]",
      "text/plain": [
       "<Figure size 432x288 with 1 Axes>"
      ]
     },
     "metadata": {
      "needs_background": "light"
     },
     "output_type": "display_data"
    }
   ],
   "source": [
    "for x in val_varseq_set:\n",
    "    plt.imshow(x['contact'][0,:,:,0])\n",
    "    break"
   ]
  },
  {
   "cell_type": "code",
   "execution_count": 9,
   "metadata": {},
   "outputs": [
    {
     "name": "stdout",
     "output_type": "stream",
     "text": [
      "CONTACT_MAP_log_norm\n",
      "Model: \"cvae\"\n",
      "_________________________________________________________________\n",
      "Layer (type)                 Output Shape              Param #   \n",
      "=================================================================\n",
      "encoder (Sequential)         multiple                  223360    \n",
      "_________________________________________________________________\n",
      "decoder (Sequential)         multiple                  370817    \n",
      "=================================================================\n",
      "Total params: 594,177\n",
      "Trainable params: 592,897\n",
      "Non-trainable params: 1,280\n",
      "_________________________________________________________________\n"
     ]
    }
   ],
   "source": [
    "epochs = 2\n",
    "\n",
    "model = pcvae.CVAE(latent_dim = 50, mnist = False, units_list=[64,128,128])\n",
    "model.compile(optimizer = model.optimizer, loss = model.compute_loss, metrics = [\"accuracy\"] )\n",
    "model.summary()"
   ]
  },
  {
   "cell_type": "code",
   "execution_count": null,
   "metadata": {},
   "outputs": [
    {
     "name": "stdout",
     "output_type": "stream",
     "text": [
      "validation\n",
      "Epoch: 1, Test set loss: 0.0058873435482382774, time elapse for current epoch 1062.0725355148315\n",
      "orignal image\n",
      "reconstruction\n"
     ]
    }
   ],
   "source": [
    "def generate_and_display_images(model, test_input):\n",
    "    z = model.encode(test_input, False)\n",
    "    recon = model.decode(z, False)\n",
    "    fig = plt.figure(figsize=(4,4))\n",
    "        \n",
    "    for i in range(1):\n",
    "        plt.subplot(2, 1, i+1)\n",
    "        tf.print('orignal image')\n",
    "        plt.imshow(test_input[i, :, :, 0])\n",
    "        plt.axis('off')\n",
    "        tf.print('reconstruction')\n",
    "        plt.subplot(2, 1, i+2)\n",
    "        plt.imshow(recon[i, :, :, 0])\n",
    "        plt.axis('off')\n",
    "\n",
    "\n",
    "    plt.savefig(parent_dir + 'image_at_epoch_{:04d}.png'.format(epoch))        \n",
    "#     plt.show()\n",
    "    plt.close()\n",
    "\n",
    "\n",
    "checkpoint_path = parent_dir + \"cp-{epoch:04d}.ckpt\"\n",
    "checkpoint_dir = os.path.dirname(checkpoint_path)\n",
    "\n",
    "train_loss = []\n",
    "val_loss = []\n",
    "\n",
    "for epoch in range(1, epochs + 1):\n",
    "    t_loss = tf.keras.metrics.Mean()\n",
    "    loss = tf.keras.metrics.Mean()\n",
    "    score = []\n",
    "    val_varseq_predict = []\n",
    "    val_varseq_label = []\n",
    "\n",
    "    start_time = time.time()\n",
    "    for train_x in train_set:\n",
    "        assert not np.any(np.isnan(train_x[\"contact\"]))\n",
    "        cost = model.compute_apply_gradients(train_x[\"contact\"], True, True)\n",
    "        t_loss(cost)\n",
    "    end_time = time.time()\n",
    "\n",
    "\n",
    "    print(\"validation\")\n",
    "    for test_x in val_varseq_set:\n",
    "        assert not np.any(np.isnan(test_x[\"contact\"]))\n",
    "        score = model.compute_loss(test_x[\"contact\"], False, True)\n",
    "        loss(score)\n",
    "        val_varseq_predict = tf.concat([val_varseq_predict, score], 0)\n",
    "        val_varseq_label = tf.concat([val_varseq_label, test_x[\"label\"]], 0)\n",
    "  \n",
    "    print('Epoch: {}, Test set loss: {}, '\n",
    "        'time elapse for current epoch {}'.format(epoch,\n",
    "                                                  loss.result(),\n",
    "                                                  end_time - start_time))\n",
    "\n",
    "    train_loss.append(t_loss.result())\n",
    "    val_loss.append(loss.result())\n",
    "    model.save_weights(checkpoint_path.format(epoch=epoch))\n",
    "    generate_and_display_images(model, test_x[\"contact\"])"
   ]
  },
  {
   "cell_type": "code",
   "execution_count": null,
   "metadata": {},
   "outputs": [],
   "source": [
    "import pickle\n",
    "f = open(parent_dir + \"train_loss.pkl\",\"wb\")\n",
    "pickle.dump(train_loss,f)\n",
    "f.close()\n",
    "\n",
    "f = open(parent_dir + \"val_loss.pkl\",\"wb\")\n",
    "pickle.dump(val_loss,f)\n",
    "f.close()"
   ]
  },
  {
   "cell_type": "code",
   "execution_count": null,
   "metadata": {},
   "outputs": [],
   "source": []
  }
 ],
 "metadata": {
  "kernelspec": {
   "display_name": "Python 3",
   "language": "python",
   "name": "python3"
  },
  "language_info": {
   "codemirror_mode": {
    "name": "ipython",
    "version": 3
   },
   "file_extension": ".py",
   "mimetype": "text/x-python",
   "name": "python",
   "nbconvert_exporter": "python",
   "pygments_lexer": "ipython3",
   "version": "3.6.4"
  }
 },
 "nbformat": 4,
 "nbformat_minor": 4
}
