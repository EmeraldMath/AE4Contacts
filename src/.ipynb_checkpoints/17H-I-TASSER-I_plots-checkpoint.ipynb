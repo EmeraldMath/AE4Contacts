{
 "cells": [
  {
   "cell_type": "code",
   "execution_count": 2,
   "metadata": {},
   "outputs": [],
   "source": [
    "import tensorflow as tf\n",
    "#import tensorflow_addons as tfa\n",
    "\n",
    "import os\n",
    "import time\n",
    "import numpy as np\n",
    "import glob\n",
    "import matplotlib.pyplot as plt\n",
    "import PIL\n",
    "import config as conf\n",
    "import imageio\n",
    "\n",
    "from IPython import display  \n",
    "\n",
    "import pandas as pd\n",
    "import seaborn as sns\n",
    "from matplotlib import pyplot as plt\n",
    "from scipy import stats\n",
    "import pickle\n",
    "\n",
    "import AE_model as pcvae"
   ]
  },
  {
   "cell_type": "code",
   "execution_count": 3,
   "metadata": {},
   "outputs": [
    {
     "data": {
      "text/html": [
       "        <script type=\"text/javascript\">\n",
       "        window.PlotlyConfig = {MathJaxConfig: 'local'};\n",
       "        if (window.MathJax) {MathJax.Hub.Config({SVG: {font: \"STIX-Web\"}});}\n",
       "        if (typeof require !== 'undefined') {\n",
       "        require.undef(\"plotly\");\n",
       "        requirejs.config({\n",
       "            paths: {\n",
       "                'plotly': ['https://cdn.plot.ly/plotly-latest.min']\n",
       "            }\n",
       "        });\n",
       "        require(['plotly'], function(Plotly) {\n",
       "            window._Plotly = Plotly;\n",
       "        });\n",
       "        }\n",
       "        </script>\n",
       "        "
      ]
     },
     "metadata": {},
     "output_type": "display_data"
    }
   ],
   "source": [
    "from plotly.offline import iplot, init_notebook_mode\n",
    "init_notebook_mode(connected = True)\n",
    "\n",
    "import plotly.express as px\n",
    "from sklearn.decomposition import PCA\n",
    "from sklearn import datasets\n",
    "from sklearn.preprocessing import StandardScaler\n",
    "from sklearn.cluster import KMeans\n",
    "\n",
    "import plotly.graph_objects as go"
   ]
  },
  {
   "cell_type": "code",
   "execution_count": 4,
   "metadata": {},
   "outputs": [
    {
     "name": "stdout",
     "output_type": "stream",
     "text": [
      "2.2.0\n"
     ]
    }
   ],
   "source": [
    "print(tf.__version__)"
   ]
  },
  {
   "cell_type": "markdown",
   "metadata": {},
   "source": [
    "# Binary no diag AE"
   ]
  },
  {
   "cell_type": "code",
   "execution_count": 4,
   "metadata": {},
   "outputs": [],
   "source": [
    "parent_dir = '/cavern/bihuayu/protein_DP/AE_symmetry/nodiag/binary/'"
   ]
  },
  {
   "cell_type": "code",
   "execution_count": 5,
   "metadata": {},
   "outputs": [],
   "source": [
    "def normalization(x):\n",
    "    sz = tf.size(x['contact'])\n",
    "    edge = tf.math.sqrt(tf.cast(sz, tf.float32))\n",
    "    edge = tf.cast(edge, tf.int32)\n",
    "    \n",
    "    contact_img = x['contact']\n",
    "    \n",
    "    diag = tf.linalg.diag_part(x['contact'])\n",
    "    x['diag'] = tf.linalg.diag(diag)\n",
    "    x['contact'] = x['contact'] - x['diag']\n",
    "    \n",
    "    zero = tf.constant(0, dtype=tf.float32)\n",
    "    one = tf.constant(1, dtype=tf.float32)\n",
    "    img = tf.where(tf.not_equal(x[\"contact\"], zero), one, zero)\n",
    "    \n",
    "    img_norm = tf.expand_dims(img, -1)\n",
    "    \n",
    "    if edge > 600:\n",
    "        img_norm = tf.image.resize_with_crop_or_pad(img_norm, 600, 600)\n",
    "    elif edge < 8:\n",
    "        img_norm = tf.image.resize_with_crop_or_pad(img_norm, 8, 8)\n",
    "    elif edge % 8 != 0:\n",
    "        mod = 8 - edge % 8\n",
    "        img_norm = tf.image.resize_with_crop_or_pad(img_norm, edge+mod, edge+mod)\n",
    "        \n",
    "    x['contact'] = img_norm\n",
    "    x['diag'] = img_norm\n",
    "        \n",
    "    return x"
   ]
  },
  {
   "cell_type": "code",
   "execution_count": 6,
   "metadata": {},
   "outputs": [],
   "source": [
    "TRAIN_BUF = 60000\n",
    "BATCH_SIZE = 1\n",
    "TEST_BUF = 10000\n",
    "\n",
    "import contact_map as cp\n",
    "data = cp.contact_map()\n",
    "\n",
    "train_norm = data.train.map(normalization)\n",
    "val_varseq_norm = data.val_varseq.map(normalization)\n",
    "robot_norm = data.robot.map(normalization)\n",
    "hit_norm = data.hit.map(normalization)\n",
    "\n",
    "train_set = train_norm.shuffle(TRAIN_BUF).batch(BATCH_SIZE)\n",
    "val_varseq_set = val_varseq_norm.batch(BATCH_SIZE)\n",
    "hit = hit_norm.batch(BATCH_SIZE)"
   ]
  },
  {
   "cell_type": "code",
   "execution_count": 7,
   "metadata": {},
   "outputs": [
    {
     "data": {
      "image/png": "[encoded data removed]",
      "text/plain": [
       "<Figure size 432x288 with 1 Axes>"
      ]
     },
     "metadata": {
      "needs_background": "light"
     },
     "output_type": "display_data"
    }
   ],
   "source": [
    "for x in val_varseq_set:\n",
    "    plt.imshow(x['contact'][0,:,:,0])\n",
    "    break"
   ]
  },
  {
   "cell_type": "code",
   "execution_count": 8,
   "metadata": {},
   "outputs": [
    {
     "data": {
      "text/plain": [
       "<matplotlib.legend.Legend at 0x2aad26993f70>"
      ]
     },
     "execution_count": 8,
     "metadata": {},
     "output_type": "execute_result"
    },
    {
     "data": {
      "image/png": "[encoded data removed]",
      "text/plain": [
       "<Figure size 288x288 with 1 Axes>"
      ]
     },
     "metadata": {
      "needs_background": "light"
     },
     "output_type": "display_data"
    }
   ],
   "source": [
    "with open(parent_dir + \"train_loss.pkl\", 'rb') as f:\n",
    "    t = pickle.load(f)\n",
    "    \n",
    "with open(parent_dir + \"val_loss.pkl\", 'rb') as f:\n",
    "    v = pickle.load(f)\n",
    "\n",
    "fig = plt.figure(figsize=(4,4))\n",
    "epochs = len(v)\n",
    "x = np.linspace(0, epochs, num=epochs)\n",
    "\n",
    "\n",
    "plt.plot(x, t)\n",
    "plt.plot(x, v)\n",
    "plt.legend(('train_loss', 'val_loss'),\n",
    "           loc='upper right')"
   ]
  },
  {
   "cell_type": "code",
   "execution_count": 9,
   "metadata": {},
   "outputs": [
    {
     "name": "stdout",
     "output_type": "stream",
     "text": [
      "CONTACT_MAP_log_norm\n"
     ]
    },
    {
     "data": {
      "text/plain": [
       "<tensorflow.python.training.tracking.util.CheckpointLoadStatus at 0x2aad26a93790>"
      ]
     },
     "execution_count": 9,
     "metadata": {},
     "output_type": "execute_result"
    }
   ],
   "source": [
    "model = pcvae.CVAE(latent_dim = 50, mnist = False, units_list=[64,128,128])\n",
    "model.compile(optimizer = model.optimizer, loss = model.compute_loss, metrics = [\"accuracy\"])\n",
    "model.load_weights(parent_dir + 'cp-0050.ckpt')"
   ]
  },
  {
   "cell_type": "markdown",
   "metadata": {},
   "source": [
    "## 17H-I-TASSER-I tests"
   ]
  },
  {
   "cell_type": "code",
   "execution_count": 12,
   "metadata": {},
   "outputs": [],
   "source": [
    "loss_group=[]\n",
    "name = []\n",
    "label = []\n",
    "group = []\n",
    "for test_x in hit:\n",
    "    score = []\n",
    "    name = tf.concat([name, test_x['name']], 0)\n",
    "    group = tf.concat([group, tf.strings.substr(test_x[\"name\"], 0, 5, unit=\"UTF8_CHAR\")], 0)\n",
    "    score = model.compute_loss(test_x[\"contact\"], False, True)\n",
    "    loss_group = tf.concat([loss_group, score], 0)"
   ]
  },
  {
   "cell_type": "code",
   "execution_count": 13,
   "metadata": {},
   "outputs": [
    {
     "data": {
      "text/plain": [
       "<tf.Tensor: shape=(1,), dtype=string, numpy=array([b'2reb_2native'], dtype=object)>"
      ]
     },
     "execution_count": 13,
     "metadata": {},
     "output_type": "execute_result"
    }
   ],
   "source": [
    "test_x['name']"
   ]
  },
  {
   "cell_type": "code",
   "execution_count": 14,
   "metadata": {},
   "outputs": [
    {
     "data": {
      "text/html": [
       "<div>\n",
       "<style scoped>\n",
       "    .dataframe tbody tr th:only-of-type {\n",
       "        vertical-align: middle;\n",
       "    }\n",
       "\n",
       "    .dataframe tbody tr th {\n",
       "        vertical-align: top;\n",
       "    }\n",
       "\n",
       "    .dataframe thead th {\n",
       "        text-align: right;\n",
       "    }\n",
       "</style>\n",
       "<table border=\"1\" class=\"dataframe\">\n",
       "  <thead>\n",
       "    <tr style=\"text-align: right;\">\n",
       "      <th></th>\n",
       "      <th>name</th>\n",
       "      <th>loss</th>\n",
       "      <th>target</th>\n",
       "    </tr>\n",
       "  </thead>\n",
       "  <tbody>\n",
       "    <tr>\n",
       "      <th>0</th>\n",
       "      <td>1abv_d10000</td>\n",
       "      <td>0.002504</td>\n",
       "      <td>1abv_</td>\n",
       "    </tr>\n",
       "    <tr>\n",
       "      <th>1</th>\n",
       "      <td>1abv_d10001</td>\n",
       "      <td>0.000694</td>\n",
       "      <td>1abv_</td>\n",
       "    </tr>\n",
       "    <tr>\n",
       "      <th>2</th>\n",
       "      <td>1abv_d10002</td>\n",
       "      <td>0.001727</td>\n",
       "      <td>1abv_</td>\n",
       "    </tr>\n",
       "    <tr>\n",
       "      <th>3</th>\n",
       "      <td>1abv_d10003</td>\n",
       "      <td>0.000038</td>\n",
       "      <td>1abv_</td>\n",
       "    </tr>\n",
       "    <tr>\n",
       "      <th>4</th>\n",
       "      <td>1abv_d10004</td>\n",
       "      <td>0.001267</td>\n",
       "      <td>1abv_</td>\n",
       "    </tr>\n",
       "    <tr>\n",
       "      <th>...</th>\n",
       "      <td>...</td>\n",
       "      <td>...</td>\n",
       "      <td>...</td>\n",
       "    </tr>\n",
       "    <tr>\n",
       "      <th>212512</th>\n",
       "      <td>2reb_2d12497</td>\n",
       "      <td>0.000482</td>\n",
       "      <td>2reb_</td>\n",
       "    </tr>\n",
       "    <tr>\n",
       "      <th>212513</th>\n",
       "      <td>2reb_2d12498</td>\n",
       "      <td>0.000028</td>\n",
       "      <td>2reb_</td>\n",
       "    </tr>\n",
       "    <tr>\n",
       "      <th>212514</th>\n",
       "      <td>2reb_2d12499</td>\n",
       "      <td>0.000126</td>\n",
       "      <td>2reb_</td>\n",
       "    </tr>\n",
       "    <tr>\n",
       "      <th>212515</th>\n",
       "      <td>2reb_2d12500</td>\n",
       "      <td>0.003607</td>\n",
       "      <td>2reb_</td>\n",
       "    </tr>\n",
       "    <tr>\n",
       "      <th>212516</th>\n",
       "      <td>2reb_2native</td>\n",
       "      <td>0.002450</td>\n",
       "      <td>2reb_</td>\n",
       "    </tr>\n",
       "  </tbody>\n",
       "</table>\n",
       "<p>212517 rows × 3 columns</p>\n",
       "</div>"
      ],
      "text/plain": [
       "                name      loss target\n",
       "0        1abv_d10000  0.002504  1abv_\n",
       "1        1abv_d10001  0.000694  1abv_\n",
       "2        1abv_d10002  0.001727  1abv_\n",
       "3        1abv_d10003  0.000038  1abv_\n",
       "4        1abv_d10004  0.001267  1abv_\n",
       "...              ...       ...    ...\n",
       "212512  2reb_2d12497  0.000482  2reb_\n",
       "212513  2reb_2d12498  0.000028  2reb_\n",
       "212514  2reb_2d12499  0.000126  2reb_\n",
       "212515  2reb_2d12500  0.003607  2reb_\n",
       "212516  2reb_2native  0.002450  2reb_\n",
       "\n",
       "[212517 rows x 3 columns]"
      ]
     },
     "execution_count": 14,
     "metadata": {},
     "output_type": "execute_result"
    }
   ],
   "source": [
    "test_loss_group = np.array(loss_group)\n",
    "d = test_loss_group.T\n",
    "df_all = pd.DataFrame(data=d)\n",
    "df_name = pd.DataFrame()\n",
    "df_name['name'] = name\n",
    "tmp_name = df_name['name'].str.decode(\"utf-8\")\n",
    "df = pd.DataFrame()\n",
    "df['name'] = tmp_name\n",
    "df['loss'] = df_all\n",
    "df['target'] = group.numpy().tolist()\n",
    "df['target'] = df['target'].str.decode(\"utf-8\")\n",
    "f = open(parent_dir + '17H-I-TASSER-I.pickle', 'bw+')\n",
    "pickle.dump(df, f)\n",
    "f.close()\n",
    "df"
   ]
  },
  {
   "cell_type": "code",
   "execution_count": 15,
   "metadata": {},
   "outputs": [],
   "source": [
    "with open(parent_dir + '17H-I-TASSER-I.pickle', 'br') as f:\n",
    "    df = pickle.load(f)"
   ]
  },
  {
   "cell_type": "code",
   "execution_count": 16,
   "metadata": {},
   "outputs": [
    {
     "data": {
      "text/plain": [
       "17"
      ]
     },
     "execution_count": 16,
     "metadata": {},
     "output_type": "execute_result"
    }
   ],
   "source": [
    "len(df[df['name'].str.contains('native')].index)"
   ]
  },
  {
   "cell_type": "code",
   "execution_count": 17,
   "metadata": {},
   "outputs": [
    {
     "name": "stdout",
     "output_type": "stream",
     "text": [
      "1\t1abv_\t5843\t12501\t0.4674026077913767\n",
      "2\t1b4bA\t891\t12501\t0.07127429805615551\n",
      "3\t1b72A\t1402\t12501\t0.11215102791776659\n",
      "4\t1csp_\t5684\t12501\t0.4546836253099752\n",
      "5\t1fadA\t9438\t12501\t0.7549796016318695\n",
      "6\t1gjxA\t11848\t12501\t0.9477641788656908\n",
      "7\t1itpA\t4543\t12501\t0.36341092712582995\n",
      "8\t1mkyA\t5194\t12501\t0.41548676105911525\n",
      "9\t1mla_\t63\t12501\t0.005039596832253419\n",
      "10\t1mn8A\t363\t12501\t0.029037676985841133\n",
      "11\t1ne3A\t6241\t12501\t0.4992400607951364\n",
      "12\t1no5A\t5850\t12501\t0.4679625629949604\n",
      "13\t1o2fB\t57\t12501\t0.004559635229181665\n",
      "14\t1tif_\t3858\t12501\t0.308615310775138\n",
      "15\t1tig_\t6638\t12501\t0.5309975201983841\n",
      "16\t2cr7A\t17\t12501\t0.0013598912087033038\n",
      "17\t2reb_\t11485\t12501\t0.9187265018798496\n"
     ]
    }
   ],
   "source": [
    "for i, t in enumerate(['1abv_', '1b4bA', '1b72A', '1csp_', '1fadA', '1gjxA', '1itpA',\n",
    "                       '1mkyA', '1mla_', '1mn8A', '1ne3A', '1no5A', '1o2fB', '1tif_', \n",
    "                       '1tig_', '2cr7A', '2reb_']):\n",
    "    df_sub = df[df['target'] == t]\n",
    "    n_loss = df_sub[df_sub['name'].str.contains('native')]['loss'].values[0]\n",
    "    decoy = df_sub[df_sub['loss']<n_loss]['loss'].count()\n",
    "    total = df_sub['loss'].count()\n",
    "    print(i+1, t, decoy, total, decoy/total, sep='\\t')\n"
   ]
  },
  {
   "cell_type": "markdown",
   "metadata": {},
   "source": [
    "# Real Value no diag AE"
   ]
  },
  {
   "cell_type": "code",
   "execution_count": 5,
   "metadata": {},
   "outputs": [],
   "source": [
    "parent_dir = '/cavern/bihuayu/protein_DP/AE_symmetry/nodiag/realVal/'"
   ]
  },
  {
   "cell_type": "code",
   "execution_count": 6,
   "metadata": {},
   "outputs": [],
   "source": [
    "def normalization(x):\n",
    "    sz = tf.size(x['contact'])\n",
    "    edge = tf.math.sqrt(tf.cast(sz, tf.float32))\n",
    "    edge = tf.cast(edge, tf.int32)\n",
    "    \n",
    "    contact_img = x['contact']\n",
    "    \n",
    "    diag = tf.linalg.diag_part(x['contact'],k=(-1,1))\n",
    "    x['diag'] = tf.linalg.diag(diag,k=(-1,1))\n",
    "    x['contact'] = x['contact'] - x['diag']\n",
    "    \n",
    "    diag = tf.linalg.diag_part(contact_img, k = -1)\n",
    "    diag2 = tf.linalg.diag(diag, k = -1)\n",
    "    diag = tf.linalg.diag_part(contact_img, k = 1)\n",
    "    diag3 = tf.linalg.diag(diag, k = 1)\n",
    "    \n",
    "    img = x['contact'] + 0.2 * (diag2 + diag3)\n",
    "    \n",
    "    img_norm = tf.expand_dims(img, -1)\n",
    "    \n",
    "    if edge > 600:\n",
    "        img_norm = tf.image.resize_with_crop_or_pad(img_norm, 600, 600)\n",
    "    elif edge < 8:\n",
    "        img_norm = tf.image.resize_with_crop_or_pad(img_norm, 8, 8)\n",
    "    elif edge % 8 != 0:\n",
    "        mod = 8 - edge % 8\n",
    "        img_norm = tf.image.resize_with_crop_or_pad(img_norm, edge+mod, edge+mod)\n",
    "        \n",
    "    x['contact'] = img_norm\n",
    "    x['diag'] = img_norm\n",
    "        \n",
    "    return x"
   ]
  },
  {
   "cell_type": "code",
   "execution_count": 7,
   "metadata": {},
   "outputs": [],
   "source": [
    "TRAIN_BUF = 60000\n",
    "BATCH_SIZE = 1\n",
    "TEST_BUF = 10000\n",
    "\n",
    "import contact_map as cp\n",
    "data = cp.contact_map()\n",
    "\n",
    "train_norm = data.train.map(normalization)\n",
    "val_varseq_norm = data.val_varseq.map(normalization)\n",
    "robot_norm = data.robot.map(normalization)\n",
    "hit_norm = data.hit.map(normalization)\n",
    "\n",
    "train_set = train_norm.shuffle(TRAIN_BUF).batch(BATCH_SIZE)\n",
    "val_varseq_set = val_varseq_norm.batch(BATCH_SIZE)\n",
    "hit = hit_norm.batch(BATCH_SIZE)"
   ]
  },
  {
   "cell_type": "code",
   "execution_count": 8,
   "metadata": {},
   "outputs": [
    {
     "data": {
      "image/png": "[encoded data removed]",
      "text/plain": [
       "<Figure size 432x288 with 1 Axes>"
      ]
     },
     "metadata": {
      "needs_background": "light"
     },
     "output_type": "display_data"
    }
   ],
   "source": [
    "for x in val_varseq_set:\n",
    "    plt.imshow(x['contact'][0,:,:,0])\n",
    "    break"
   ]
  },
  {
   "cell_type": "code",
   "execution_count": 9,
   "metadata": {},
   "outputs": [
    {
     "data": {
      "text/plain": [
       "<matplotlib.legend.Legend at 0x2aad22b2adc0>"
      ]
     },
     "execution_count": 9,
     "metadata": {},
     "output_type": "execute_result"
    },
    {
     "data": {
      "image/png": "[encoded data removed]",
      "text/plain": [
       "<Figure size 288x288 with 1 Axes>"
      ]
     },
     "metadata": {
      "needs_background": "light"
     },
     "output_type": "display_data"
    }
   ],
   "source": [
    "with open(parent_dir + \"train_loss.pkl\", 'rb') as f:\n",
    "    t = pickle.load(f)\n",
    "    \n",
    "with open(parent_dir + \"val_loss.pkl\", 'rb') as f:\n",
    "    v = pickle.load(f)\n",
    "\n",
    "fig = plt.figure(figsize=(4,4))\n",
    "epochs = len(v)\n",
    "x = np.linspace(0, epochs, num=epochs)\n",
    "\n",
    "\n",
    "plt.plot(x, t)\n",
    "plt.plot(x, v)\n",
    "plt.legend(('train_loss', 'val_loss'),\n",
    "           loc='upper right')"
   ]
  },
  {
   "cell_type": "code",
   "execution_count": 10,
   "metadata": {},
   "outputs": [
    {
     "name": "stdout",
     "output_type": "stream",
     "text": [
      "CONTACT_MAP_log_norm\n"
     ]
    },
    {
     "data": {
      "text/plain": [
       "<tensorflow.python.training.tracking.util.CheckpointLoadStatus at 0x2aad22bf2250>"
      ]
     },
     "execution_count": 10,
     "metadata": {},
     "output_type": "execute_result"
    }
   ],
   "source": [
    "model = pcvae.CVAE(latent_dim = 50, mnist = False, units_list=[64,128,128])\n",
    "model.compile(optimizer = model.optimizer, loss = model.compute_loss, metrics = [\"accuracy\"])\n",
    "model.load_weights(parent_dir + 'cp-0010.ckpt')"
   ]
  },
  {
   "cell_type": "markdown",
   "metadata": {},
   "source": [
    "## I-TASSER tests"
   ]
  },
  {
   "cell_type": "code",
   "execution_count": 11,
   "metadata": {},
   "outputs": [],
   "source": [
    "loss_group=[]\n",
    "name = []\n",
    "label = []\n",
    "group = []\n",
    "for test_x in hit:\n",
    "    score = []\n",
    "    name = tf.concat([name, test_x['name']], 0)\n",
    "    group = tf.concat([group, tf.strings.substr(test_x[\"name\"], 0, 5, unit=\"UTF8_CHAR\")], 0)\n",
    "    score = model.compute_loss(test_x[\"contact\"], False, False)\n",
    "    loss_group = tf.concat([loss_group, score], 0)"
   ]
  },
  {
   "cell_type": "code",
   "execution_count": 12,
   "metadata": {},
   "outputs": [],
   "source": [
    "test_loss_group = np.array(loss_group)\n",
    "d = test_loss_group.T\n",
    "df_all = pd.DataFrame(data=d)\n",
    "df_name = pd.DataFrame()\n",
    "df_name['name'] = name\n",
    "tmp_name = df_name['name'].str.decode(\"utf-8\")\n",
    "df = pd.DataFrame()\n",
    "df['name'] = tmp_name\n",
    "df['loss'] = df_all\n",
    "df['target'] = group.numpy().tolist()\n",
    "df['target'] = df['target'].str.decode(\"utf-8\")\n",
    "f = open(parent_dir + '17H-I-TASSER-I.pickle', 'bw+')\n",
    "pickle.dump(df, f)\n",
    "f.close()\n",
    "# df"
   ]
  },
  {
   "cell_type": "code",
   "execution_count": 13,
   "metadata": {},
   "outputs": [],
   "source": [
    "with open(parent_dir + '17H-I-TASSER-I.pickle', 'br') as f:\n",
    "    df = pickle.load(f)"
   ]
  },
  {
   "cell_type": "code",
   "execution_count": 14,
   "metadata": {},
   "outputs": [
    {
     "name": "stdout",
     "output_type": "stream",
     "text": [
      "17\n"
     ]
    }
   ],
   "source": [
    "print(len(df[df['name'].str.contains('native')].index))"
   ]
  },
  {
   "cell_type": "code",
   "execution_count": 15,
   "metadata": {},
   "outputs": [
    {
     "name": "stdout",
     "output_type": "stream",
     "text": [
      "1\t1abv_\t0\t12501\t0.0\n",
      "2\t1b4bA\t0\t12501\t0.0\n",
      "3\t1b72A\t0\t12501\t0.0\n",
      "4\t1csp_\t0\t12501\t0.0\n",
      "5\t1fadA\t0\t12501\t0.0\n",
      "6\t1gjxA\t77\t12501\t0.006159507239420847\n",
      "7\t1itpA\t0\t12501\t0.0\n",
      "8\t1mkyA\t0\t12501\t0.0\n",
      "9\t1mla_\t0\t12501\t0.0\n",
      "10\t1mn8A\t0\t12501\t0.0\n",
      "11\t1ne3A\t60\t12501\t0.004799616030717543\n",
      "12\t1no5A\t0\t12501\t0.0\n",
      "13\t1o2fB\t0\t12501\t0.0\n",
      "14\t1tif_\t0\t12501\t0.0\n",
      "15\t1tig_\t0\t12501\t0.0\n",
      "16\t2cr7A\t0\t12501\t0.0\n",
      "17\t2reb_\t0\t12501\t0.0\n"
     ]
    }
   ],
   "source": [
    "for i, t in enumerate(['1abv_', '1b4bA', '1b72A', '1csp_', '1fadA', '1gjxA', '1itpA',\n",
    "                       '1mkyA', '1mla_', '1mn8A', '1ne3A', '1no5A', '1o2fB', '1tif_', \n",
    "                       '1tig_', '2cr7A', '2reb_']):\n",
    "    df_sub = df[df['target'] == t]\n",
    "    n_loss = df_sub[df_sub['name'].str.contains('native')]['loss'].values[0]\n",
    "    decoy = df_sub[df_sub['loss']<n_loss]['loss'].count()\n",
    "    total = df_sub['loss'].count()\n",
    "    print(i+1, t, decoy, total, decoy/total, sep='\\t')"
   ]
  },
  {
   "cell_type": "code",
   "execution_count": null,
   "metadata": {},
   "outputs": [],
   "source": []
  }
 ],
 "metadata": {
  "kernelspec": {
   "display_name": "Python 3",
   "language": "python",
   "name": "python3"
  },
  "language_info": {
   "codemirror_mode": {
    "name": "ipython",
    "version": 3
   },
   "file_extension": ".py",
   "mimetype": "text/x-python",
   "name": "python",
   "nbconvert_exporter": "python",
   "pygments_lexer": "ipython3",
   "version": "3.6.4"
  }
 },
 "nbformat": 4,
 "nbformat_minor": 4
}
