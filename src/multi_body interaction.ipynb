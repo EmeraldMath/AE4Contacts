{
 "cells": [
  {
   "cell_type": "code",
   "execution_count": 1,
   "metadata": {},
   "outputs": [],
   "source": [
    "import tensorflow as tf\n",
    "#import tensorflow_addons as tfa\n",
    "\n",
    "import os\n",
    "import time\n",
    "import numpy as np\n",
    "import glob\n",
    "import matplotlib.pyplot as plt\n",
    "import PIL\n",
    "import config as conf\n",
    "import imageio\n",
    "\n",
    "from IPython import display  \n",
    "\n",
    "import pandas as pd\n",
    "import seaborn as sns\n",
    "from matplotlib import pyplot as plt\n",
    "from scipy import stats\n",
    "import pickle\n",
    "\n",
    "import AE_model as pcvae"
   ]
  },
  {
   "cell_type": "code",
   "execution_count": 2,
   "metadata": {},
   "outputs": [
    {
     "data": {
      "text/html": [
       "        <script type=\"text/javascript\">\n",
       "        window.PlotlyConfig = {MathJaxConfig: 'local'};\n",
       "        if (window.MathJax) {MathJax.Hub.Config({SVG: {font: \"STIX-Web\"}});}\n",
       "        if (typeof require !== 'undefined') {\n",
       "        require.undef(\"plotly\");\n",
       "        requirejs.config({\n",
       "            paths: {\n",
       "                'plotly': ['https://cdn.plot.ly/plotly-latest.min']\n",
       "            }\n",
       "        });\n",
       "        require(['plotly'], function(Plotly) {\n",
       "            window._Plotly = Plotly;\n",
       "        });\n",
       "        }\n",
       "        </script>\n",
       "        "
      ]
     },
     "metadata": {},
     "output_type": "display_data"
    }
   ],
   "source": [
    "from plotly.offline import iplot, init_notebook_mode\n",
    "init_notebook_mode(connected = True)\n",
    "\n",
    "import plotly.express as px\n",
    "from sklearn.decomposition import PCA\n",
    "from sklearn import datasets\n",
    "from sklearn.preprocessing import StandardScaler\n",
    "from sklearn.cluster import KMeans\n",
    "\n",
    "import plotly.graph_objects as go"
   ]
  },
  {
   "cell_type": "code",
   "execution_count": 3,
   "metadata": {},
   "outputs": [
    {
     "name": "stdout",
     "output_type": "stream",
     "text": [
      "2.4.1\n"
     ]
    }
   ],
   "source": [
    "print(tf.__version__)"
   ]
  },
  {
   "cell_type": "code",
   "execution_count": 4,
   "metadata": {},
   "outputs": [],
   "source": [
    "parent_dir = '/cavern/bihuayu/protein_DP/AE_symmetry/nodiag/realVal/'"
   ]
  },
  {
   "cell_type": "code",
   "execution_count": 5,
   "metadata": {},
   "outputs": [],
   "source": [
    "def normalization(x):\n",
    "    sz = tf.size(x['contact'])\n",
    "    edge = tf.math.sqrt(tf.cast(sz, tf.float32))\n",
    "    edge = tf.cast(edge, tf.int32)\n",
    "    \n",
    "    contact_img = x['contact']\n",
    "    \n",
    "    diag = tf.linalg.diag_part(x['contact'],k=(-1,1))\n",
    "    x['diag'] = tf.linalg.diag(diag,k=(-1,1))\n",
    "    x['contact'] = x['contact'] - x['diag']\n",
    "    \n",
    "    diag = tf.linalg.diag_part(contact_img, k = -1)\n",
    "    diag2 = tf.linalg.diag(diag, k = -1)\n",
    "    diag = tf.linalg.diag_part(contact_img, k = 1)\n",
    "    diag3 = tf.linalg.diag(diag, k = 1)\n",
    "    \n",
    "    img = x['contact'] + 0.2 * (diag2 + diag3)\n",
    "    \n",
    "    img_norm = tf.expand_dims(img, -1)\n",
    "    \n",
    "    if edge > 600:\n",
    "        img_norm = tf.image.resize_with_crop_or_pad(img_norm, 600, 600)\n",
    "    elif edge < 8:\n",
    "        img_norm = tf.image.resize_with_crop_or_pad(img_norm, 8, 8)\n",
    "    elif edge % 8 != 0:\n",
    "        mod = 8 - edge % 8\n",
    "        img_norm = tf.image.resize_with_crop_or_pad(img_norm, edge+mod, edge+mod)\n",
    "        \n",
    "    x['contact'] = img_norm\n",
    "    x['diag'] = img_norm\n",
    "        \n",
    "    return x"
   ]
  },
  {
   "cell_type": "code",
   "execution_count": 6,
   "metadata": {},
   "outputs": [],
   "source": [
    "TRAIN_BUF = 60000\n",
    "BATCH_SIZE = 1\n",
    "TEST_BUF = 10000\n",
    "\n",
    "import contact_map as cp\n",
    "data = cp.contact_map()\n",
    "\n",
    "val_varseq_norm = data.val_varseq.map(normalization)\n",
    "\n",
    "val_varseq_set = val_varseq_norm.batch(BATCH_SIZE)"
   ]
  },
  {
   "cell_type": "code",
   "execution_count": 7,
   "metadata": {},
   "outputs": [
    {
     "name": "stdout",
     "output_type": "stream",
     "text": [
      "CONTACT_MAP_log_norm\n"
     ]
    },
    {
     "data": {
      "text/plain": [
       "<tensorflow.python.training.tracking.util.CheckpointLoadStatus at 0x2aab17ce1be0>"
      ]
     },
     "execution_count": 7,
     "metadata": {},
     "output_type": "execute_result"
    }
   ],
   "source": [
    "model = pcvae.CVAE(latent_dim = 50, mnist = False, units_list=[64,128,128])\n",
    "model.compile(optimizer = model.optimizer, loss = model.compute_loss, metrics = [\"accuracy\"])\n",
    "model.load_weights(parent_dir + 'cp-0010.ckpt')"
   ]
  },
  {
   "cell_type": "markdown",
   "metadata": {},
   "source": [
    "## reconstruction"
   ]
  },
  {
   "cell_type": "code",
   "execution_count": 8,
   "metadata": {},
   "outputs": [
    {
     "name": "stdout",
     "output_type": "stream",
     "text": [
      "[\"2KDD_1_A\"]\n",
      "Test set loss: 0.565945565700531\n",
      "orignal image\n",
      "reconstruction\n"
     ]
    },
    {
     "data": {
      "image/png": "[encoded data removed]",
      "text/plain": [
       "<Figure size 576x576 with 2 Axes>"
      ]
     },
     "metadata": {
      "needs_background": "light"
     },
     "output_type": "display_data"
    },
    {
     "name": "stdout",
     "output_type": "stream",
     "text": [
      "0.565945566\n"
     ]
    }
   ],
   "source": [
    "def generate_and_display_images(model, test_input):\n",
    "    z = model.encode(test_input, False)\n",
    "    recon = model.decode(z, False)\n",
    "    fig = plt.figure(figsize=(8,8))\n",
    "        \n",
    "    for i in range(1):\n",
    "        tf.print('orignal image')\n",
    "        plt.subplot(2, 2, i+1)\n",
    "        plt.imshow(test_input[i, :, :, 0])\n",
    "        #plt.axis('off')\n",
    "        tf.print('reconstruction')\n",
    "        plt.subplot(2, 2, i+3)\n",
    "        plt.imshow(recon[i, :, :, 0])\n",
    "        #plt.axis('off')\n",
    "    plt.show()\n",
    "    plt.close()\n",
    "    return recon[i, :, :, 0]\n",
    "\n",
    "\n",
    "loss = tf.keras.metrics.Mean()\n",
    "for test_x in val_varseq_set:\n",
    "    test_img = test_x['contact']\n",
    "    tf.print(test_x['name'])\n",
    "    assert not np.any(np.isnan(test_img))\n",
    "    score = model.compute_loss(test_img, training=False, binary=True)\n",
    "    loss(score)\n",
    "    print('Test set loss: {}'.format(loss.result()))\n",
    "    break\n",
    "\n",
    "recon1 = generate_and_display_images(model, test_img)\n",
    "tf.print(loss.result())"
   ]
  },
  {
   "cell_type": "markdown",
   "metadata": {},
   "source": [
    "# multi-body interaction visualization"
   ]
  },
  {
   "cell_type": "code",
   "execution_count": 9,
   "metadata": {},
   "outputs": [
    {
     "name": "stdout",
     "output_type": "stream",
     "text": [
      "orignal image\n",
      "reconstruction\n"
     ]
    },
    {
     "data": {
      "image/png": "[encoded data removed]",
      "text/plain": [
       "<Figure size 576x576 with 2 Axes>"
      ]
     },
     "metadata": {
      "needs_background": "light"
     },
     "output_type": "display_data"
    },
    {
     "name": "stdout",
     "output_type": "stream",
     "text": [
      "tf.Tensor(0.866112, shape=(), dtype=float32) tf.Tensor(0.9527232, shape=(), dtype=float32)\n"
     ]
    }
   ],
   "source": [
    "import numpy\n",
    "mask = numpy.ones(tf.shape(test_img))\n",
    "mask[0, 12, 16, 0] = 0\n",
    "mask[0, 16, 12, 0] = 0\n",
    "new_img = test_img * mask + 1.1 * test_img[0, 12, 16, 0] * (1 - mask)\n",
    "recon_new = generate_and_display_images(model, new_img)\n",
    "print(test_img[0, 12, 16, 0], new_img[0, 12, 16, 0])"
   ]
  },
  {
   "cell_type": "code",
   "execution_count": 10,
   "metadata": {},
   "outputs": [
    {
     "data": {
      "text/plain": [
       "<matplotlib.image.AxesImage at 0x2aab1c8b3460>"
      ]
     },
     "execution_count": 10,
     "metadata": {},
     "output_type": "execute_result"
    },
    {
     "data": {
      "image/png": "[encoded data removed]",
      "text/plain": [
       "<Figure size 432x288 with 1 Axes>"
      ]
     },
     "metadata": {
      "needs_background": "light"
     },
     "output_type": "display_data"
    }
   ],
   "source": [
    "plt.imshow(test_img[0, :, :, 0] - new_img[0, :, :, 0], cmap='gray')"
   ]
  },
  {
   "cell_type": "code",
   "execution_count": 11,
   "metadata": {},
   "outputs": [
    {
     "data": {
      "text/plain": [
       "<matplotlib.image.AxesImage at 0x2aab1c90e2e0>"
      ]
     },
     "execution_count": 11,
     "metadata": {},
     "output_type": "execute_result"
    },
    {
     "data": {
      "image/png": "[encoded data removed]",
      "text/plain": [
       "<Figure size 432x288 with 1 Axes>"
      ]
     },
     "metadata": {
      "needs_background": "light"
     },
     "output_type": "display_data"
    }
   ],
   "source": [
    "plt.imshow(recon1 - recon_new, cmap='gray')\n",
    "# print(recon_new - recon1)"
   ]
  },
  {
   "cell_type": "code",
   "execution_count": 12,
   "metadata": {},
   "outputs": [
    {
     "data": {
      "text/plain": [
       "<matplotlib.collections.PathCollection at 0x2aab1c964d30>"
      ]
     },
     "execution_count": 12,
     "metadata": {},
     "output_type": "execute_result"
    },
    {
     "data": {
      "image/png": "[encoded data removed]",
      "text/plain": [
       "<Figure size 432x288 with 1 Axes>"
      ]
     },
     "metadata": {
      "needs_background": "light"
     },
     "output_type": "display_data"
    }
   ],
   "source": [
    "dif = recon1 - recon_new\n",
    "plt.imshow(dif[:30,:30], cmap='gray')\n",
    "plt.scatter(x=[12,16], y=[16,12], c='r', s=10)"
   ]
  },
  {
   "cell_type": "code",
   "execution_count": 13,
   "metadata": {},
   "outputs": [
    {
     "data": {
      "text/plain": [
       "<matplotlib.collections.PathCollection at 0x2aab1c9d1910>"
      ]
     },
     "execution_count": 13,
     "metadata": {},
     "output_type": "execute_result"
    },
    {
     "data": {
      "image/png": "[encoded data removed]",
      "text/plain": [
       "<Figure size 432x288 with 1 Axes>"
      ]
     },
     "metadata": {
      "needs_background": "light"
     },
     "output_type": "display_data"
    }
   ],
   "source": [
    "plt.imshow(test_img[0,:30,:30,0], cmap='gray')\n",
    "plt.scatter(x=[12,16], y=[16,12], c='r', s=10)"
   ]
  },
  {
   "cell_type": "code",
   "execution_count": 14,
   "metadata": {},
   "outputs": [
    {
     "data": {
      "text/plain": [
       "<matplotlib.image.AxesImage at 0x2aab1ca2d520>"
      ]
     },
     "execution_count": 14,
     "metadata": {},
     "output_type": "execute_result"
    },
    {
     "data": {
      "image/png": "[encoded data removed]",
      "text/plain": [
       "<Figure size 432x288 with 1 Axes>"
      ]
     },
     "metadata": {
      "needs_background": "light"
     },
     "output_type": "display_data"
    }
   ],
   "source": [
    "dif = recon1 - recon_new\n",
    "inputs = tf.squeeze(test_img)\n",
    "zero = tf.constant(0, dtype=tf.float32)\n",
    "one = tf.constant(1, dtype=tf.float32)\n",
    "boolmax = tf.where(tf.not_equal(inputs, zero), one, zero)\n",
    "no_noise = dif * boolmax\n",
    "plt.imshow(no_noise, cmap='gray')"
   ]
  },
  {
   "cell_type": "code",
   "execution_count": 15,
   "metadata": {},
   "outputs": [
    {
     "data": {
      "text/plain": [
       "<tf.Tensor: shape=(4,), dtype=int32, numpy=array([ 1, 64, 64,  1], dtype=int32)>"
      ]
     },
     "execution_count": 15,
     "metadata": {},
     "output_type": "execute_result"
    }
   ],
   "source": [
    "tf.shape(test_img)"
   ]
  },
  {
   "cell_type": "code",
   "execution_count": 30,
   "metadata": {},
   "outputs": [],
   "source": [
    "# for i in range(63):\n",
    "#     tf.print(inputs[i, i+1])\n",
    "## 2KDD_1_A contains 57 residues and padding is 7. It shows padding is 3 + 4. \n",
    "## So res_id = matrix_id - 2(counting from 1)"
   ]
  }
 ],
 "metadata": {
  "kernelspec": {
   "display_name": "Python 3",
   "language": "python",
   "name": "python3"
  },
  "language_info": {
   "codemirror_mode": {
    "name": "ipython",
    "version": 3
   },
   "file_extension": ".py",
   "mimetype": "text/x-python",
   "name": "python",
   "nbconvert_exporter": "python",
   "pygments_lexer": "ipython3",
   "version": "3.6.4"
  }
 },
 "nbformat": 4,
 "nbformat_minor": 4
}
